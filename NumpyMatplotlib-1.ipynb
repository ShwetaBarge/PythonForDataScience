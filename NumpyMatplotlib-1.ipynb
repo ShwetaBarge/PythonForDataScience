{
 "cells": [
  {
   "cell_type": "markdown",
   "metadata": {},
   "source": [
    "### Exploring numpy and matplotlib\n",
    "1. numpy\n",
    "    1. arange - returns evenly spaced values within a given interval. Values are generated within the half-open interval [start,stop).  \n",
    "    2. linspace - returns evenly spaced values within [start, stop]. You can specify if you want it to be within half-open interval or not.\n",
    "    3. cos - input in radians, gives cosine value \n",
    "    4. sin\n",
    "    \n",
    "2. matplotlib\n",
    "    1. cm.get_cmap() \n",
    "    2. subplots\n",
    "    3. show \n"
   ]
  },
  {
   "cell_type": "markdown",
   "metadata": {},
   "source": [
    "### What is list slicing ? \n",
    "________________________________________________________________________________________________________________________________"
   ]
  },
  {
   "cell_type": "code",
   "execution_count": 29,
   "metadata": {},
   "outputs": [
    {
     "name": "stdout",
     "output_type": "stream",
     "text": [
      "[0, 2, 4, 6, 8]\n"
     ]
    }
   ],
   "source": [
    "lr = list(range(0,10,2))\n",
    "print(lr)"
   ]
  },
  {
   "cell_type": "code",
   "execution_count": 30,
   "metadata": {},
   "outputs": [
    {
     "data": {
      "text/plain": [
       "[1, 2, 3, 4, 9, 2, 3, 4, 5, 10, 1, 2, 3, 4, 9, 2, 3, 4, 5, 10]"
      ]
     },
     "execution_count": 30,
     "metadata": {},
     "output_type": "execute_result"
    }
   ],
   "source": [
    "a = [1,2,3,4,9]\n",
    "b = [2,3,4,5,10]\n",
    "lc= a + b + a + b\n",
    "lc"
   ]
  },
  {
   "cell_type": "code",
   "execution_count": 31,
   "metadata": {},
   "outputs": [],
   "source": [
    "import numpy as np \n",
    "l = np.arange(0,1,0.1)"
   ]
  },
  {
   "cell_type": "code",
   "execution_count": 32,
   "metadata": {},
   "outputs": [
    {
     "name": "stdout",
     "output_type": "stream",
     "text": [
      "[0.  0.1 0.2 0.3 0.4 0.5 0.6 0.7 0.8 0.9]\n"
     ]
    }
   ],
   "source": [
    "print(l)"
   ]
  },
  {
   "cell_type": "markdown",
   "metadata": {},
   "source": [
    "#### What is linspace ?\n",
    "numpy.linspace(start, stop, num=50, endpoint=True, retstep=False, dtype=None, axis=0)\n",
    "    1. num : No.of samples to generate "
   ]
  },
  {
   "cell_type": "code",
   "execution_count": 33,
   "metadata": {},
   "outputs": [
    {
     "name": "stdout",
     "output_type": "stream",
     "text": [
      "[0.  0.1 0.2 0.3 0.4 0.5 0.6 0.7 0.8 0.9]\n"
     ]
    }
   ],
   "source": [
    "l = np.linspace(0,1,10, endpoint = False)\n",
    "print(l)"
   ]
  },
  {
   "cell_type": "code",
   "execution_count": 34,
   "metadata": {},
   "outputs": [],
   "source": [
    "l = np.linspace(0,2*3.14,10, endpoint = False)"
   ]
  },
  {
   "cell_type": "code",
   "execution_count": 35,
   "metadata": {},
   "outputs": [
    {
     "name": "stdout",
     "output_type": "stream",
     "text": [
      "[0.    0.628 1.256 1.884 2.512 3.14  3.768 4.396 5.024 5.652]\n"
     ]
    }
   ],
   "source": [
    "print(l)"
   ]
  },
  {
   "cell_type": "code",
   "execution_count": 36,
   "metadata": {},
   "outputs": [
    {
     "name": "stdout",
     "output_type": "stream",
     "text": [
      "[1.0, 0.8092041809880323, 0.3096228130570242, -0.30810803127799236, -0.80826742726931, -0.9999987317275395, -0.8101388821239993, -0.3111368094638822, 0.3065924679690989, 0.8073286233439505]\n",
      "[0.0, 0.5875275257138919, 0.95085946050647, 0.9513513762338286, 0.5888155619677953, 0.0015926529164868282, -0.5862379991700271, -0.9503651328813763, -0.9518408788156858, -0.5901021046645755]\n"
     ]
    }
   ],
   "source": [
    "x = []\n",
    "y = []\n",
    "for count in l:\n",
    "    x.append(np.cos(count))\n",
    "    y.append(np.sin(count))\n",
    "    \n",
    "print(x) ; print(y)\n"
   ]
  },
  {
   "cell_type": "markdown",
   "metadata": {},
   "source": [
    "### Matplotlib\n",
    "#### matplotlib.cm.get_cmap\n",
    "Gets a color map instance \n",
    "#### subplots\n",
    "The Matplotlib subplot() function can be called to plot two or more plots in one figure. Matplotlib supports all kind of subplots including 2x1 vertical, 2x1 horizontal or a 2x2 grid.\n",
    "\n",
    "### _______________________________________________________________________________________________\n"
   ]
  },
  {
   "cell_type": "markdown",
   "metadata": {},
   "source": [
    "Zip() : \n",
    "    By passing no argument, zip returns an empty iterator.\n",
    "If we pass two iterable object of same lengths, then an iterable of python tuples will be returned where each element of the tuple will be from those iterable lists."
   ]
  },
  {
   "cell_type": "code",
   "execution_count": 37,
   "metadata": {},
   "outputs": [
    {
     "data": {
      "image/png": "[encoded data removed]",
      "text/plain": [
       "<Figure size 360x360 with 1 Axes>"
      ]
     },
     "metadata": {
      "needs_background": "light"
     },
     "output_type": "display_data"
    }
   ],
   "source": [
    "import matplotlib.pyplot as plt\n",
    "import matplotlib \n",
    "\n",
    "colors = np.linspace(0,2*3.14, 10)\n",
    "cc = matplotlib.cm.get_cmap('RdBu',len(x))\n",
    "fig,ax = plt.subplots(1,1,figsize=(5,5))\n",
    "\n",
    "i=0\n",
    "for ex,ey in zip(x,y):\n",
    "    xc = [0,ex]\n",
    "    yc = [0,ey]\n",
    "    ax.plot(xc,yc, marker = 'o', color = cc(colors[i]))\n",
    "    i = i + 1\n",
    "plt.show()\n",
    "\n",
    "\n"
   ]
  },
  {
   "cell_type": "code",
   "execution_count": 39,
   "metadata": {},
   "outputs": [
    {
     "name": "stdout",
     "output_type": "stream",
     "text": [
      "Enter n : 4\n"
     ]
    }
   ],
   "source": [
    "n = int(input('Enter n : '))"
   ]
  },
  {
   "cell_type": "code",
   "execution_count": 40,
   "metadata": {},
   "outputs": [
    {
     "data": {
      "text/plain": [
       "4"
      ]
     },
     "execution_count": 40,
     "metadata": {},
     "output_type": "execute_result"
    }
   ],
   "source": [
    "n"
   ]
  },
  {
   "cell_type": "code",
   "execution_count": 41,
   "metadata": {},
   "outputs": [
    {
     "name": "stdout",
     "output_type": "stream",
     "text": [
      "[0, 1, 4, 9, 16]\n"
     ]
    }
   ],
   "source": [
    "first_100 = list(range(100))\n",
    "first_100_squared = [num * num for num in first_100]\n",
    "\n",
    "print(first_100_squared[:5])"
   ]
  },
  {
   "cell_type": "code",
   "execution_count": 42,
   "metadata": {},
   "outputs": [
    {
     "name": "stdout",
     "output_type": "stream",
     "text": [
      "[0, 4, 16, 36, 64]\n"
     ]
    }
   ],
   "source": [
    "first_100_even = [num * num for num in first_100 if num%2 == 0]\n",
    "print(first_100_even[:5])"
   ]
  },
  {
   "cell_type": "code",
   "execution_count": 43,
   "metadata": {},
   "outputs": [
    {
     "name": "stdout",
     "output_type": "stream",
     "text": [
      "[0, 4, 16, 36, 64, 100, 144, 196, 256, 324, 400, 484, 576, 676, 784, 900, 1024, 1156, 1296, 1444, 1600, 1764, 1936, 2116, 2304, 2500, 2704, 2916, 3136, 3364, 3600, 3844, 4096, 4356, 4624, 4900, 5184, 5476, 5776, 6084, 6400, 6724, 7056, 7396, 7744, 8100, 8464, 8836, 9216, 9604]\n"
     ]
    }
   ],
   "source": [
    "l = [num if num%2 else num*num for num in first_100]\n",
    "print(l[::2])#[start:stop:step]"
   ]
  },
  {
   "cell_type": "code",
   "execution_count": 44,
   "metadata": {},
   "outputs": [
    {
     "name": "stdout",
     "output_type": "stream",
     "text": [
      "[99, 9216, 93, 8100, 87, 7056, 81, 6084, 75, 5184, 69, 4356, 63, 3600, 57, 2916, 51, 2304, 45, 1764, 39, 1296, 33, 900, 27, 576, 21, 324, 15, 144, 9, 36, 3]\n"
     ]
    }
   ],
   "source": [
    "print(l[-1:0:-3])"
   ]
  },
  {
   "cell_type": "code",
   "execution_count": null,
   "metadata": {},
   "outputs": [],
   "source": []
  }
 ],
 "metadata": {
  "kernelspec": {
   "display_name": "Python 3",
   "language": "python",
   "name": "python3"
  },
  "language_info": {
   "codemirror_mode": {
    "name": "ipython",
    "version": 3
   },
   "file_extension": ".py",
   "mimetype": "text/x-python",
   "name": "python",
   "nbconvert_exporter": "python",
   "pygments_lexer": "ipython3",
   "version": "3.7.0"
  }
 },
 "nbformat": 4,
 "nbformat_minor": 2
}
