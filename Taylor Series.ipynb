{
 "cells": [
  {
   "cell_type": "markdown",
   "metadata": {},
   "source": [
    "## An Exercise in Optimization\n",
    "<p>\n"
   ]
  },
  {
   "cell_type": "markdown",
   "metadata": {},
   "source": [
    "General steps that anyone follows when they face a problem is first they try to understand what the problem is. Then try and design a solution, if its in programming then write a pseudo code then code, test and then debug. \n",
    "<p>In this exercise, the problem is the Taylor series, we already know the solution i.e., expression of different functions in the form of Taylor Series. What we will be focusing on is the optimization of these functions that calculate the value of different mathematical functions using taylor series. You will see how each optimization affects the performance and does it affect the accuracy which in other words is testing of the function. I will also try and visualize the data as much as possible to give a better understanding of what is going on."
   ]
  },
  {
   "cell_type": "markdown",
   "metadata": {},
   "source": [
    "Before we begin with the exercise lets brush up our knowledge of <b>Taylor Series"
   ]
  },
  {
   "cell_type": "markdown",
   "metadata": {},
   "source": [
    "### Taylor Series\n",
    "<p>A Taylor Series is an expansion of a function into an infinite sum of terms, with increasing exponents of a variable. Any continuous function can be expressed as Taylor Series. To know more about Taylor Series click \n",
    "    <a href='https://en.wikipedia.org/wiki/Taylor_series'>here</a>.\n",
    "<p>In this exercise we will be looking at the following functions"
   ]
  },
  {
   "cell_type": "markdown",
   "metadata": {},
   "source": [
    "#### The geometric series  $\\frac{1}{(1-x)}$\n",
    "<br>$$\\frac{1}{(1-x)} = \\sum_{k=0}^{\\infty} x^n = 1 + x + x^2 + x^3 + \\dots$$ "
   ]
  },
  {
   "cell_type": "markdown",
   "metadata": {},
   "source": [
    "#### The exponential function $e^x$\n",
    "<br>$$e^x = \\sum_{k=0}^{\\infty} \\frac{x^k}{k!} = 1 + x + \\frac{x^2}{2!} + \\frac{x^3}{3!} + \\dots$$ \n"
   ]
  },
  {
   "cell_type": "markdown",
   "metadata": {},
   "source": [
    "#### The Trigonometric functions\n",
    "$$\\sin x = \\sum_{k=0}^{\\infty} \\frac{(-1)^n}{(2n + 1)!}x^{(2n+1)} = x - \\frac{x^3}{3!} + \\frac{x^5}{5!} - \\dots$$\n",
    "<br>\n",
    "$$\\cos x = \\sum_{k=0}^{\\infty} \\frac{(-1)^n}{(2n)!}x^{(2n)} = 1 - \\frac{x^2}{2!} + \\frac{x^4}{4!} - \\frac{x^6}{6!} + \\dots$$"
   ]
  },
  {
   "cell_type": "markdown",
   "metadata": {},
   "source": [
    "***"
   ]
  },
  {
   "cell_type": "code",
   "execution_count": 30,
   "metadata": {},
   "outputs": [],
   "source": [
    "import numpy as np\n",
    "import math\n",
    "import matplotlib.pyplot as plt"
   ]
  },
  {
   "cell_type": "markdown",
   "metadata": {},
   "source": [
    "***\n",
    "<p>Lets begin with "
   ]
  },
  {
   "cell_type": "markdown",
   "metadata": {},
   "source": [
    "### The geometric series \n",
    "<br>$$\\frac{1}{(1-x)} = \\sum_{k=0}^{\\infty} x^n = 1 + x + x^2 + x^3 + \\dots$$ \n",
    "<br>This holds true when $|x| < 1$"
   ]
  },
  {
   "cell_type": "markdown",
   "metadata": {},
   "source": [
    "Since the value of $|x| < 1$ and the power goes on increasing, the series converges. This means that the end terms approximate to zero. The graph below is for $0.7$ from its $0^{th}$ to $20^{th}$ power. Look at how the term is converging as the power is increasing."
   ]
  },
  {
   "cell_type": "code",
   "execution_count": 31,
   "metadata": {},
   "outputs": [
    {
     "data": {
      "text/plain": [
       "[<matplotlib.lines.Line2D at 0x284638c7a90>]"
      ]
     },
     "execution_count": 31,
     "metadata": {},
     "output_type": "execute_result"
    },
    {
     "data": {
      "image/png": "[encoded data removed]",
      "text/plain": [
       "<Figure size 216x216 with 1 Axes>"
      ]
     },
     "metadata": {
      "needs_background": "light"
     },
     "output_type": "display_data"
    }
   ],
   "source": [
    "a = 0.7\n",
    "l = []\n",
    "for i in range(0,20) :\n",
    "    l.append(math.pow(a,i))\n",
    "\n",
    "fig, ax = plt.subplots(1,1,figsize=(3,3))\n",
    "ax.plot(l)\n",
    "    "
   ]
  },
  {
   "cell_type": "markdown",
   "metadata": {},
   "source": [
    "Taylor Series is an infinite series but we can't run our loop forever, so we can keep the terminating condition such that we stop when we arrive at a term which equals zero. "
   ]
  },
  {
   "cell_type": "code",
   "execution_count": 32,
   "metadata": {},
   "outputs": [
    {
     "name": "stdout",
     "output_type": "stream",
     "text": [
      "1.3 ms ± 28.8 µs per loop (mean ± std. dev. of 7 runs, 1000 loops each)\n"
     ]
    }
   ],
   "source": [
    "%%timeit\n",
    "def gpsum(a):\n",
    "    s = 0\n",
    "    i = 0\n",
    "    b = 1\n",
    "    while(b != 0):\n",
    "        s = s + pow(a,i)\n",
    "        i = i + 1\n",
    "        b = pow(a,i)\n",
    "gpsum(0.5)"
   ]
  },
  {
   "cell_type": "markdown",
   "metadata": {},
   "source": [
    "Python provides another way to find the power of a given number"
   ]
  },
  {
   "cell_type": "code",
   "execution_count": 33,
   "metadata": {},
   "outputs": [
    {
     "name": "stdout",
     "output_type": "stream",
     "text": [
      "1.25 ms ± 203 µs per loop (mean ± std. dev. of 7 runs, 1000 loops each)\n"
     ]
    }
   ],
   "source": [
    "%%timeit\n",
    "def gpsum(a):\n",
    "    s = 0\n",
    "    i = 0\n",
    "    b = 1\n",
    "    while(b != 0):\n",
    "        s = s + a**i\n",
    "        i = i + 1\n",
    "        b = pow(a,i)\n",
    "gpsum(0.5)"
   ]
  },
  {
   "cell_type": "code",
   "execution_count": 34,
   "metadata": {},
   "outputs": [],
   "source": [
    "def gpsum(a):\n",
    "    s = 0\n",
    "    i = 0\n",
    "    b = 1\n",
    "    while(b != 0):\n",
    "        s = s + a**i\n",
    "        i = i + 1\n",
    "        b = pow(a,i)\n",
    "    return s, i "
   ]
  },
  {
   "cell_type": "markdown",
   "metadata": {},
   "source": [
    "The functions returns a value of data type float, there are 53 bits of precision available for python float.\n",
    "<br>The terminating condition for our loop calls for extra iterations to equate or term to $0$ till the last precision. What if we set a precision limit ? Let's see how it affects the number of iterations.\n"
   ]
  },
  {
   "cell_type": "markdown",
   "metadata": {},
   "source": [
    "<p>This will be our first case of Optimization\n",
    "<br><b>1] Set a precision limit to reduce the number of iterations"
   ]
  },
  {
   "cell_type": "code",
   "execution_count": 35,
   "metadata": {},
   "outputs": [
    {
     "name": "stdout",
     "output_type": "stream",
     "text": [
      "10.1 µs ± 490 ns per loop (mean ± std. dev. of 7 runs, 100000 loops each)\n"
     ]
    }
   ],
   "source": [
    "%%timeit\n",
    "def pow_sum_limit(a):\n",
    "    s = 0\n",
    "    count = 0\n",
    "    t = 1 \n",
    "    while t > 0.00001 :\n",
    "        t = a**count\n",
    "        s = s + t\n",
    "        count += 1\n",
    "    return s\n",
    "\n",
    "pow_sum_limit(0.5)"
   ]
  },
  {
   "cell_type": "markdown",
   "metadata": {},
   "source": [
    "#### This change simply made it $120\\times$ faster ! "
   ]
  },
  {
   "cell_type": "code",
   "execution_count": 36,
   "metadata": {},
   "outputs": [],
   "source": [
    "def pow_sum_limit(a):\n",
    "    s = 0\n",
    "    count = 0\n",
    "    t = 1 \n",
    "    while t > 0.00001 :\n",
    "        t = a**count\n",
    "        s = s + t\n",
    "        count += 1\n",
    "    return s, count"
   ]
  },
  {
   "cell_type": "markdown",
   "metadata": {},
   "source": [
    "Below is a function that will plot the number of iterations taken by the two functions and also plot another graph with that value of the sum along with respective value of $\\frac {1}{1-x}$"
   ]
  },
  {
   "cell_type": "code",
   "execution_count": 37,
   "metadata": {},
   "outputs": [],
   "source": [
    "a = [0.1, 0.2, 0.3, 0.4, 0.5, 0.6, 0.7, 0.8, 0.9]\n",
    "\n",
    "def compare_functions(func1,func2):\n",
    "    itr1 = []\n",
    "    itr2 = []\n",
    "    actual = []\n",
    "    ans1 = []\n",
    "    ans2 = []\n",
    "    for i in a :\n",
    "        tup1 = func1(i)\n",
    "        tup2 = func2(i)\n",
    "        itr1.append(tup1[1])\n",
    "        itr2.append(tup2[1])\n",
    "        ans1.append(tup1[0])\n",
    "        ans2.append(tup2[0])\n",
    "        actual.append(1/(1-i))    \n",
    "    fig, ax = plt.subplots(1,2,figsize=(12,6))\n",
    "    ax[0].plot(a,itr1, color = 'red')\n",
    "    ax[0].plot(a,itr2)\n",
    "    ax[0].legend([func1.__name__+\"()\", func2.__name__+\"()\"])\n",
    "    ax[0].set_title(\"Iterations\")\n",
    "    ax[0].set_ylabel(\"No.of Iterations\")\n",
    "    ax[0].set_xlabel(\"$x$\")\n",
    "    ax[1].plot(a, ans1, color = 'red')\n",
    "    ax[1].plot(a, ans2)\n",
    "    ax[1].plot(a, actual)\n",
    "    ax[1].legend([func1.__name__+\"()\",func2.__name__+\"()\",\"${1}/{(1-x)}$\"])\n",
    "    ax[1].set_title(\"Values of geometric series\")"
   ]
  },
  {
   "cell_type": "code",
   "execution_count": 38,
   "metadata": {},
   "outputs": [
    {
     "data": {
      "image/png": "[encoded data removed]",
      "text/plain": [
       "<Figure size 864x432 with 2 Axes>"
      ]
     },
     "metadata": {
      "needs_background": "light"
     },
     "output_type": "display_data"
    }
   ],
   "source": [
    "compare_functions(gpsum,pow_sum_limit)"
   ]
  },
  {
   "cell_type": "code",
   "execution_count": 39,
   "metadata": {},
   "outputs": [
    {
     "name": "stdout",
     "output_type": "stream",
     "text": [
      "(9.999999999999993, 7073)\n",
      "(9.999916647515818, 111)\n"
     ]
    }
   ],
   "source": [
    "print(gpsum(0.9))\n",
    "print(pow_sum_limit(0.9))"
   ]
  },
  {
   "cell_type": "markdown",
   "metadata": {},
   "source": [
    "We can see that for $0.9$, the naive implementation takes near about 7000 iterations whereas when we set a limit the number of iterations do not even reach 1000. The second graph shows the actual values calculated by both of the functions and the value of $\\frac {1}{1-x}$, the three of them superimpose, which says that the two functions are quite accurate but by simply setting a limit we can reduce the number of iterations by 7000 and get a speedup of $120\\times $.\n"
   ]
  },
  {
   "cell_type": "markdown",
   "metadata": {},
   "source": [
    "<p>Lets optimize it further.\n",
    "<p>In the above functions we are calculating $a^i$ at every iteration. We don't need to do that, since at one iteration we've calculated the value of $a^i$ at the next iteration we can just multiply that value by $a$. It would go something like this \n",
    "<br>$a$\n",
    "<br>$(a)\\cdot a$\n",
    "<br>$(a\\cdot a)\\cdot a$\n",
    "<br>$(a\\cdot a\\cdot a)\\cdot a$\n",
    "<br>$\\dots$\n",
    "<p>Second case of optimization\n",
    "<br>\n",
    "    \n",
    "#### 2] Replacing the pow() / ** function."
   ]
  },
  {
   "cell_type": "code",
   "execution_count": 40,
   "metadata": {},
   "outputs": [
    {
     "name": "stdout",
     "output_type": "stream",
     "text": [
      "10.2 µs ± 2.74 µs per loop (mean ± std. dev. of 7 runs, 100000 loops each)\n"
     ]
    }
   ],
   "source": [
    "%%timeit\n",
    "def pow_sum_limit1(a):\n",
    "    s = 0\n",
    "    t = 1\n",
    "    while t > 1e-5 :\n",
    "        t = t*a\n",
    "        s += t\n",
    "    return s\n",
    "pow_sum_limit(0.5)"
   ]
  },
  {
   "cell_type": "markdown",
   "metadata": {},
   "source": [
    "#### We get a speed up of $300\\times$"
   ]
  },
  {
   "cell_type": "code",
   "execution_count": 41,
   "metadata": {},
   "outputs": [
    {
     "data": {
      "image/png": "[encoded data removed]",
      "text/plain": [
       "<Figure size 864x432 with 2 Axes>"
      ]
     },
     "metadata": {
      "needs_background": "light"
     },
     "output_type": "display_data"
    }
   ],
   "source": [
    "def pow_sum_limit1(a):\n",
    "    s = 1\n",
    "    t = 1\n",
    "    count = 0 \n",
    "    while t > 0.00001 :\n",
    "        t = t*a\n",
    "        s = s + t\n",
    "        count += 1\n",
    "    return s, count\n",
    "\n",
    "compare_functions(pow_sum_limit,pow_sum_limit1)"
   ]
  },
  {
   "cell_type": "markdown",
   "metadata": {},
   "source": [
    "We see that there is a slight difference in the number of iterations taken by our recent functions, that is because we enter the loop with value of $s$ initialized to 1 rather than 0, which saves our 1 iteration.\n"
   ]
  },
  {
   "cell_type": "markdown",
   "metadata": {},
   "source": [
    "To summarize what we did in the geometric series\n",
    "<ul>\n",
    "    <li>We started off with a naive implementation where is go on iterating till we find a term that is equal to $0$.</li> \n",
    "    <li>To avoid those extra iterations we set a precision limit to our loop which gave us a speed up of <b>120x</b></li>\n",
    "    <li>Then instead of calculating the exponential term for every iteration, we used the value produced in our previous       iteration and multiplied it with 'a'. Which gave us a speedup of <b>300x</b>.</li>\n",
    "    </ul>"
   ]
  },
  {
   "cell_type": "markdown",
   "metadata": {},
   "source": [
    "***"
   ]
  },
  {
   "cell_type": "markdown",
   "metadata": {},
   "source": [
    "Till now we have seen two ways to optimize our function that calculates the sum of the geometric series. We will move on to the exponential function and perform similar optimization."
   ]
  },
  {
   "cell_type": "markdown",
   "metadata": {},
   "source": [
    "***"
   ]
  },
  {
   "cell_type": "markdown",
   "metadata": {},
   "source": [
    "### The exponential function $e^x$\n",
    "<br>$$e^x = \\sum_{k=0}^{\\infty} \\frac{x^k}{k!} = 1 + x + \\frac{x^2}{2!} + \\frac{x^3}{3!} + \\dots$$ "
   ]
  },
  {
   "cell_type": "markdown",
   "metadata": {},
   "source": [
    "Looking at the series we observe that there is factorial in every term which was not present in the geometric series. Python provides a math.factorial(x) function that calculates the factorial of x. Can we replace it the same way we replaced the pow() function in our geometrix series ? \n",
    "<p> We also wrote a testing function for geometric series in which we compare the no.of iterations and also cross the sum of the series with $\\frac {1}{1-x}$. Similarly we need to write a testing function for our exponential function and trigonometric functions.\n",
    "    <br>Therefore we need to write a <b>generic testing funcition</b> that can test our functions for accuracy. We want to optimize our functions but also keep the correctness of it.\n",
    "<p>Lets list down the tasks we need to perform for this function.\n",
    "<ul>\n",
    "    <li> Set a terminating condition such that you can avoid unnecessary iterations. </li>\n",
    "    <li> Replace the power function, math.pow(). </li>\n",
    "    <li> Find a way to replace math.fact() in a similar way we did for pow().</li>\n",
    "    <li> Put all of these together and see what resut you get.\n",
    "</ul>"
   ]
  },
  {
   "cell_type": "markdown",
   "metadata": {},
   "source": [
    "***"
   ]
  },
  {
   "cell_type": "markdown",
   "metadata": {},
   "source": [
    "#### The Testing function"
   ]
  },
  {
   "cell_type": "markdown",
   "metadata": {},
   "source": [
    "This is a generic testing function that can be used for testing all the Taylor series operations that we will be performing in this notebook. We will test them against inbuilt python functions for $e^x$, $\\sin$, and $\\cos$. We need to write a function that will calculate the sum of geometric series according to the formula $\\frac{1}{1-x}$."
   ]
  },
  {
   "cell_type": "code",
   "execution_count": 42,
   "metadata": {},
   "outputs": [],
   "source": [
    "def gs(x):\n",
    "    return (1/(1-x))"
   ]
  },
  {
   "cell_type": "code",
   "execution_count": 43,
   "metadata": {},
   "outputs": [],
   "source": [
    "\n",
    "def test(func1,func2) :\n",
    "    \n",
    "    if func1.__name__ == \"cal_sine_cosine\" :\n",
    "        angle = np.linspace(0, 2* np.pi  ,num = 100 , endpoint=False)\n",
    "    #------------------ for cos --------------------------------------\n",
    "        cosx = []\n",
    "        actualcos = []\n",
    "        error = []\n",
    "        #finding cos and math.cos for every angle in the list\n",
    "        for i in angle :\n",
    "            cosofx = func1(i,0)[0]\n",
    "            actualcosofx = func2(i)\n",
    "            cosx.append(cosofx)\n",
    "            actualcos.append(actualcosofx)\n",
    "            error.append(round((actualcosofx - cosofx),7))\n",
    "            \n",
    "        #plotting graph for userdefines and math.cos\n",
    "        fig, ax = plt.subplots(2,2,figsize=(10,10))\n",
    "        ax[0][0].plot(cosx, color = 'red')\n",
    "        ax[0][0].set_title(\"cal_sine_cosine(x,0)\")\n",
    "        ax[0][1].plot(actualcos)\n",
    "        ax[0][1].set_title(\"math.cos(x)\")\n",
    "        ax[1][0].plot(cosx, color = 'red')\n",
    "        ax[1][0].plot(actualcos)\n",
    "        ax[1][0].legend(['cal_sine_cosine(x,0)', 'math.cos(x)'])\n",
    "        ax[1][0].set_title(\"Superimposition of cal_sine_cosine(x,0) and math.cos(x)\")\n",
    "        ax[1][1].plot(error)\n",
    "        ax[1][1].set_title(\"error\")\n",
    "        \n",
    "    #------------------ for sin --------------------------------------\n",
    "        sinx = []\n",
    "        actualsin = []\n",
    "        error = []\n",
    "        \n",
    "        #finding sin and math.sin for all values in list - angle\n",
    "        for i in angle :\n",
    "            sinofx = func1(i,1)[0]\n",
    "            actualsinofx = func2(i)\n",
    "            sinx.append(sinofx)\n",
    "            actualsin.append(actualsinofx)\n",
    "            error.append(round((actualsinofx - sinofx),7))\n",
    "            \n",
    "        #plotting graph for user defined function and math.sin\n",
    "        fig, ax = plt.subplots(2,2,figsize=(10,10))\n",
    "        ax[0][0].plot(sinx, color = 'red')\n",
    "        ax[0][0].set_title(\"cal_sine_cosine(x,1)\")\n",
    "        ax[0][1].plot(actualsin)\n",
    "        ax[0][1].set_title(\"math.sin(x)\")\n",
    "        ax[1][0].plot(sinx, color = 'red')\n",
    "        ax[1][0].plot(actualsin)\n",
    "        ax[1][0].legend(['cal_sine_cosine(x,1)', 'math.sin(x)'])\n",
    "        ax[1][0].set_title(\"Superimposition of cal_sine_cosine(x,1) and math.sin(x)\")\n",
    "        ax[1][1].plot(error)\n",
    "        ax[1][1].set_title(\"error\")\n",
    "\n",
    "    #---------- For geometric progression -------------------\n",
    "    elif func2.__name__ == \"gs\" :\n",
    "        testcase = [0.1, 0.2, 0.3, 0.4, 0.5, 0.6, 0.7, 0.8, 0.9]\n",
    "        actual = []\n",
    "        ans1 = []\n",
    "        error = []\n",
    "        for i in a :\n",
    "            tup1 = func1(i)\n",
    "            actualans = func2(i)\n",
    "            ans1.append(tup1[0])\n",
    "            actual.append(actualans)\n",
    "            error.append(actualans - tup1[0])\n",
    "        fig, ax = plt.subplots(1,2,figsize=(12,6))\n",
    "        ax[0].plot(a,ans1, color = 'red')\n",
    "        ax[0].plot(a,actual)\n",
    "        ax[0].legend([func1.__name__+\"()\", func2.__name__+\"()\"])\n",
    "        ax[0].set_title(func1.__name__+\"() and $\\frac{1}{1-x}$\")\n",
    "        ax[0].set_xlabel(\"$x$\")\n",
    "        ax[1].plot(a, error, color = 'red')\n",
    "        ax[1].set_title(\"Error\")\n",
    "        ax[1].set_xlable(\"$x$\")\n",
    "        \n",
    "        \n",
    "    # ------------------- for exponential function ----------------\n",
    "    elif func2.__name__ == \"exp\" :\n",
    "        x = np.linspace(20, 70,num = 50,endpoint=False)\n",
    "        ourvalues = []\n",
    "        actualvalues = []\n",
    "        error = []\n",
    "        for i in x :\n",
    "            o = round(func1(i)[0],7)\n",
    "            a = round(func2(i),7)\n",
    "            ourvalues.append(o)\n",
    "            actualvalues.append(a)\n",
    "            error.append(a-o)\n",
    "        fig, ax = plt.subplots(2,2,figsize=(10,10))\n",
    "        ax[0][0].plot(ourvalues, color = 'red')\n",
    "        ax[0][0].set_title(func1.__name__ + \"()\")\n",
    "        ax[0][1].plot(actualvalues)\n",
    "        ax[0][1].set_title(func2.__name__+\"()\")\n",
    "        ax[1][0].plot(ourvalues,color = 'red')\n",
    "        ax[1][0].plot(actualvalues)\n",
    "        ax[1][0].legend([func1.__name__ + \"()\", func2.__name__+\"()\"])\n",
    "        ax[1][0].set_title(\"Superimposition of \"+func1.__name__ + \"()\" +\" and \"+ func2.__name__+\"()\")\n",
    "        ax[1][1].plot(error)\n",
    "        ax[1][1].set_title(\"error\")"
   ]
  },
  {
   "cell_type": "markdown",
   "metadata": {},
   "source": [
    "***"
   ]
  },
  {
   "cell_type": "markdown",
   "metadata": {},
   "source": [
    "#### Optimizing the Exponential function"
   ]
  },
  {
   "cell_type": "markdown",
   "metadata": {},
   "source": [
    "#### 1] Finding the terminating condition\n",
    "<p>Lets plot a graph and see how series looks like for $e^2$."
   ]
  },
  {
   "cell_type": "code",
   "execution_count": 44,
   "metadata": {},
   "outputs": [
    {
     "data": {
      "text/plain": [
       "[<matplotlib.lines.Line2D at 0x28463843b00>]"
      ]
     },
     "execution_count": 44,
     "metadata": {},
     "output_type": "execute_result"
    },
    {
     "data": {
      "image/png": "[encoded data removed]",
      "text/plain": [
       "<Figure size 288x288 with 1 Axes>"
      ]
     },
     "metadata": {
      "needs_background": "light"
     },
     "output_type": "display_data"
    }
   ],
   "source": [
    "e = 1 \n",
    "i = 0\n",
    "l = []\n",
    "while i < 25 :\n",
    "    e += 2**i/math.factorial(i)\n",
    "    i = i + 1\n",
    "    l.append(e)\n",
    "    \n",
    "fig, ax = plt.subplots(1,1,figsize=(4,4))\n",
    "ax.plot(l)"
   ]
  },
  {
   "cell_type": "markdown",
   "metadata": {},
   "source": [
    "We observe that after a certain no.of iterations the value of sum does not change, so lets keep this as our terminating condition."
   ]
  },
  {
   "cell_type": "code",
   "execution_count": 45,
   "metadata": {},
   "outputs": [
    {
     "name": "stdout",
     "output_type": "stream",
     "text": [
      "53.8 µs ± 9.36 µs per loop (mean ± std. dev. of 7 runs, 10000 loops each)\n"
     ]
    }
   ],
   "source": [
    " %%timeit\n",
    "def e_pow(x):\n",
    "    e_to_2 = 0\n",
    "    t1 = 1\n",
    "    t2 = 0\n",
    "    i  = 0 \n",
    "    while True:\n",
    "        e_to_2 += x**i/math.factorial(i)\n",
    "        t1 = t2\n",
    "        t2 = e_to_2\n",
    "        i = i + 1\n",
    "        if t1 == t2 :\n",
    "            break\n",
    "    return e_to_2\n",
    "\n",
    "e_pow(5)"
   ]
  },
  {
   "cell_type": "markdown",
   "metadata": {},
   "source": [
    "Testing our function for correctness "
   ]
  },
  {
   "cell_type": "code",
   "execution_count": 46,
   "metadata": {},
   "outputs": [
    {
     "data": {
      "image/png": "[encoded data removed]",
      "text/plain": [
       "<Figure size 720x720 with 4 Axes>"
      ]
     },
     "metadata": {
      "needs_background": "light"
     },
     "output_type": "display_data"
    }
   ],
   "source": [
    "def e_pow(x):\n",
    "    e_to_2 = 0\n",
    "    t1 = 1\n",
    "    t2 = 0\n",
    "    i  = 0 \n",
    "    while True:\n",
    "        e_to_2 += x**i/math.factorial(i)\n",
    "        t1 = t2\n",
    "        t2 = e_to_2\n",
    "        i = i + 1\n",
    "        if t1 == t2 :\n",
    "            break\n",
    "    return e_to_2,i\n",
    "test(e_pow,math.exp)"
   ]
  },
  {
   "cell_type": "markdown",
   "metadata": {},
   "source": [
    "- - - - - - - - - - - - - - - - - - - - - - - - - - - - - - - - - - - - - - - - - - - - - - - - - - - - - - - -"
   ]
  },
  {
   "cell_type": "markdown",
   "metadata": {},
   "source": [
    "As discussed earlier, python's floating point has 52 bit precision. We will set a precision limit to reduce the number of iterations."
   ]
  },
  {
   "cell_type": "code",
   "execution_count": 47,
   "metadata": {},
   "outputs": [],
   "source": [
    "def e_pow1(x):\n",
    "    e_to_2 = 1\n",
    "    t1 = 1\n",
    "    t2 = 0\n",
    "    i  = 0 \n",
    "    while t1 > 1e-5:\n",
    "        t1 = x**i/math.factorial(i)\n",
    "        e_to_2 += t1\n",
    "        i = i + 1\n",
    "    return e_to_2, i\n"
   ]
  },
  {
   "cell_type": "code",
   "execution_count": 48,
   "metadata": {},
   "outputs": [
    {
     "name": "stdout",
     "output_type": "stream",
     "text": [
      "32.9 µs ± 784 ns per loop (mean ± std. dev. of 7 runs, 10000 loops each)\n"
     ]
    }
   ],
   "source": [
    "%%timeit\n",
    "def e_pow1(x):\n",
    "    e_to_2 = 1\n",
    "    t1 = 1\n",
    "    t2 = 0\n",
    "    i  = 0 \n",
    "    while t1 > 1e-5:\n",
    "        t1 = x**i/math.factorial(i)\n",
    "        e_to_2 += t1\n",
    "        i = i + 1\n",
    "    return e_to_2, i\n",
    "\n",
    "e_pow1(5)"
   ]
  },
  {
   "cell_type": "markdown",
   "metadata": {},
   "source": [
    "####  We get a speed up of 2x by setting a precision limit."
   ]
  },
  {
   "cell_type": "markdown",
   "metadata": {},
   "source": [
    "Precision limit affects the number of iterations, lets compare it with our naive approach.\n",
    "<br>Since we would be checking no.of iterations quite often lets make a generic function to compare no.of iterations of two functions."
   ]
  },
  {
   "cell_type": "code",
   "execution_count": 49,
   "metadata": {},
   "outputs": [],
   "source": [
    "def compare_iter(func1, func2) : \n",
    "    itr1 = []\n",
    "    itr2 = []\n",
    "    actual = []\n",
    "    ans1 = []\n",
    "    ans2 = []\n",
    "    fig, ax = plt.subplots(1,1,figsize=(5,5))\n",
    "    for i in a :\n",
    "        tup1 = func1(i)\n",
    "        tup2 = func2(i)\n",
    "        itr1.append(tup1[1])\n",
    "        itr2.append(tup2[1])  \n",
    "      # ax.plot([i, i], [tup1[1], tup2[1]], color='grey', ls='dotted')\n",
    "      # ax.text(i, (tup1[1]+tup2[1])/2, tup1[1]-tup2[1], color='orange')\n",
    "        ax.text(i, tup1[1]-0.6, tup1[1], color = 'red')\n",
    "        ax.text(i, tup2[1]+0.4, tup2[1], color = 'purple')\n",
    "    \n",
    "    ax.plot(a,itr1, color = 'red')\n",
    "    ax.plot(a,itr2)\n",
    "    ax.legend([func1.__name__+\"()\", func2.__name__+\"()\"])\n",
    "    ax.set_title(\"Iterations\")\n",
    "    ax.set_ylabel(\"No.of Iterations\")\n",
    "    ax.set_xlabel(\"$x$\")\n",
    "    "
   ]
  },
  {
   "cell_type": "code",
   "execution_count": 50,
   "metadata": {},
   "outputs": [
    {
     "data": {
      "image/png": "[encoded data removed]",
      "text/plain": [
       "<Figure size 360x360 with 1 Axes>"
      ]
     },
     "metadata": {
      "needs_background": "light"
     },
     "output_type": "display_data"
    }
   ],
   "source": [
    "compare_iter(e_pow,e_pow1)"
   ]
  },
  {
   "cell_type": "markdown",
   "metadata": {},
   "source": [
    "#### We can see that the no.of iterations are reduced to half."
   ]
  },
  {
   "cell_type": "markdown",
   "metadata": {},
   "source": [
    "We've completed our first task in the exponential functions lets move on to the next task that is replacing the pow() function. \n",
    "<p> Note that are not optimizing the function step by step, that is we won't be optimizing the pow() function in the reduced iterations function, instead we will make changes in our naive approach and see the changes. We will be doing this with our further tasks as well. In the end we will put all of these together and see what is our result."
   ]
  },
  {
   "cell_type": "markdown",
   "metadata": {},
   "source": [
    "***"
   ]
  },
  {
   "cell_type": "markdown",
   "metadata": {},
   "source": [
    "#### 2] Replacing pow() "
   ]
  },
  {
   "cell_type": "code",
   "execution_count": 51,
   "metadata": {},
   "outputs": [
    {
     "data": {
      "image/png": "[encoded data removed]",
      "text/plain": [
       "<Figure size 720x720 with 4 Axes>"
      ]
     },
     "metadata": {
      "needs_background": "light"
     },
     "output_type": "display_data"
    }
   ],
   "source": [
    "def e_pow2(x):\n",
    "    e_to_2 = 1\n",
    "    t1 = 1\n",
    "    t2 = 0\n",
    "    term = 1\n",
    "    fact = 1\n",
    "    i = 1 \n",
    "    while True:\n",
    "        term *= x\n",
    "        t1 = term/math.factorial(i)\n",
    "        e_to_2 += t1\n",
    "        t1 = t2\n",
    "        t2 = e_to_2\n",
    "        i = i + 1\n",
    "        if t1 == t2 :\n",
    "            break\n",
    "    return e_to_2, i\n",
    "\n",
    "test(e_pow2,math.exp)"
   ]
  },
  {
   "cell_type": "code",
   "execution_count": 52,
   "metadata": {},
   "outputs": [
    {
     "name": "stdout",
     "output_type": "stream",
     "text": [
      "39.7 µs ± 4.5 µs per loop (mean ± std. dev. of 7 runs, 10000 loops each)\n"
     ]
    }
   ],
   "source": [
    "%%timeit\n",
    "def e_pow2(x):\n",
    "    e_to_2 = 1\n",
    "    t1 = 1\n",
    "    t2 = 0\n",
    "    term = 1\n",
    "    fact = 1\n",
    "    i = 1 \n",
    "    while True:\n",
    "        term *= x\n",
    "        t1 = term/math.factorial(i)\n",
    "        e_to_2 += t1\n",
    "        t1 = t2\n",
    "        t2 = e_to_2\n",
    "        i = i + 1\n",
    "        if t1 == t2 :\n",
    "            break\n",
    "    return e_to_2\n",
    "\n",
    "e_pow2(5)"
   ]
  },
  {
   "cell_type": "markdown",
   "metadata": {},
   "source": [
    "#### We get a speedup of 1.5x as compared to our naive implementation "
   ]
  },
  {
   "cell_type": "markdown",
   "metadata": {},
   "source": [
    "***\n"
   ]
  },
  {
   "cell_type": "markdown",
   "metadata": {},
   "source": [
    "#### 3] Replacing factorial "
   ]
  },
  {
   "cell_type": "markdown",
   "metadata": {},
   "source": [
    "Factorial of any given number $n!$  is given as \n",
    "<br>\n",
    "$n! = (n) \\cdot (n-1) \\cdot (n-2) \\dots 2 \\cdot 1$\n",
    "<br>In our function as we go on iterating, we are incrementing the value of $i$ by $1$ and at every iteration we are finding the value of math.factorial(i). Instead we can store the initial value of $i$ and $1$ and go on multiplying that value at every iteration.\n",
    "\n",
    "<br>$Iteration - 1 \\space \\space i = 1 \\space \\space fact = 1$<br><br>$Iteration - 2 \\space \\space i = 2 \\space \\space fact = 1\\cdot i$<br><br>$Iteration - 3 \\space \\space i = 3 \\space \\space fact = 1\\cdot 2 \\cdot i$<br><br>$\\dots$<br>\n",
    "<br>"
   ]
  },
  {
   "cell_type": "code",
   "execution_count": 53,
   "metadata": {},
   "outputs": [
    {
     "data": {
      "image/png": "[encoded data removed]",
      "text/plain": [
       "<Figure size 720x720 with 4 Axes>"
      ]
     },
     "metadata": {
      "needs_background": "light"
     },
     "output_type": "display_data"
    }
   ],
   "source": [
    "def e_pow3(x):\n",
    "    e_to_2 = 1\n",
    "    t1 = 1\n",
    "    t2 = 0\n",
    "    term = 1\n",
    "    fact = 1\n",
    "    i = 1 \n",
    "    while True:\n",
    "        fact *= i\n",
    "        t1 = x**i / fact\n",
    "        e_to_2 += t1\n",
    "        t1 = t2\n",
    "        t2 = e_to_2\n",
    "        i = i + 1\n",
    "        if t1 == t2 :\n",
    "            break\n",
    "    return e_to_2,i\n",
    "\n",
    "test(e_pow3,math.exp)"
   ]
  },
  {
   "cell_type": "code",
   "execution_count": 54,
   "metadata": {},
   "outputs": [
    {
     "name": "stdout",
     "output_type": "stream",
     "text": [
      "39.8 µs ± 3.29 µs per loop (mean ± std. dev. of 7 runs, 10000 loops each)\n"
     ]
    }
   ],
   "source": [
    "%%timeit \n",
    "def e_pow3(x):\n",
    "    e_to_2 = 1\n",
    "    t1 = 1\n",
    "    t2 = 0\n",
    "    term = 1\n",
    "    fact = 1\n",
    "    i = 1 \n",
    "    while True:\n",
    "        fact *= i\n",
    "        t1 = x**i / fact\n",
    "        e_to_2 += t1\n",
    "        t1 = t2\n",
    "        t2 = e_to_2\n",
    "        i = i + 1\n",
    "        if t1 == t2 :\n",
    "            break\n",
    "    return e_to_2\n",
    "\n",
    "e_pow2(5)"
   ]
  },
  {
   "cell_type": "markdown",
   "metadata": {},
   "source": [
    "#### We get a speed up of 1.5x by changing the math.factorial() in our naive implementation"
   ]
  },
  {
   "cell_type": "markdown",
   "metadata": {},
   "source": [
    "***"
   ]
  },
  {
   "cell_type": "markdown",
   "metadata": {},
   "source": [
    "#### 4] Putting 3 optimizations together"
   ]
  },
  {
   "cell_type": "markdown",
   "metadata": {},
   "source": [
    "We will now put our previously made optimizations together into our naive implementation, check the speed up and the number of iterations."
   ]
  },
  {
   "cell_type": "code",
   "execution_count": 55,
   "metadata": {},
   "outputs": [
    {
     "name": "stdout",
     "output_type": "stream",
     "text": [
      "13.2 µs ± 2.4 µs per loop (mean ± std. dev. of 7 runs, 100000 loops each)\n"
     ]
    }
   ],
   "source": [
    "%%timeit\n",
    "def e_pow3(x):\n",
    "    e_to_2 = 1\n",
    "    t1 = 1\n",
    "    t1 = float(t1)\n",
    "    i  = 1 \n",
    "    term = 1\n",
    "    fact = 1\n",
    "    count = 0\n",
    "    while t1 > 1e-5:\n",
    "        term *= x\n",
    "        fact *= i\n",
    "        t1 = term/fact\n",
    "        e_to_2 += t1\n",
    "        i = i + 1\n",
    "    return e_to_2\n",
    "\n",
    "e_pow3(5)"
   ]
  },
  {
   "cell_type": "code",
   "execution_count": 56,
   "metadata": {},
   "outputs": [],
   "source": [
    "def e_pow3(x):\n",
    "    e_to_2 = 1\n",
    "    t1 = 1\n",
    "    t1 = float(t1)\n",
    "    i  = 1 \n",
    "    term = 1\n",
    "    fact = 1\n",
    "    count = 0\n",
    "    while t1 > 1e-5:\n",
    "        term *= x\n",
    "        fact *= i\n",
    "        t1 = term/fact\n",
    "        e_to_2 += t1\n",
    "        i = i + 1\n",
    "    return e_to_2, i + 1\n"
   ]
  },
  {
   "cell_type": "code",
   "execution_count": 57,
   "metadata": {},
   "outputs": [
    {
     "data": {
      "image/png": "[encoded data removed]",
      "text/plain": [
       "<Figure size 360x360 with 1 Axes>"
      ]
     },
     "metadata": {
      "needs_background": "light"
     },
     "output_type": "display_data"
    }
   ],
   "source": [
    "compare_iter(e_pow, e_pow3)"
   ]
  },
  {
   "cell_type": "markdown",
   "metadata": {},
   "source": [
    "#### We get a speed up of 5x by putting all three of the ideas together. \n",
    "Precision limit alone determine the no.of iterations taking place to calculate a value. That alone gives us a speed up of 1.9x as seen previously."
   ]
  },
  {
   "cell_type": "markdown",
   "metadata": {},
   "source": [
    "***"
   ]
  },
  {
   "cell_type": "markdown",
   "metadata": {},
   "source": [
    "#### Can we optimize it further ?"
   ]
  },
  {
   "cell_type": "markdown",
   "metadata": {},
   "source": [
    "What we are doing here is we are using the previously calculated exponential value multiplying it by $x$ to find the $x^k$ and similarly for factorial $k!$, our iterator is $i$, therefore we multiply our previously calculated factorial value with $i$ to get $i!$. \n",
    "<br>\n",
    "<br>At every iteration we are calculating $\\frac{a\\cdot a\\cdot a ...}{1\\cdot2\\cdot3...}$\n",
    "<br>As the no.of iterations increase the numerator and denominator go on increasing in magnitude, we then divide these two large numbers which is relatively another big calculation. \n",
    "<br>\n",
    "<br>Instead of calculating two big terms we can calculate <br><br>$\\frac{k}{i}$<br><br>$(\\frac{k}{i})\\cdot\\frac{k}{i+1}$<br><br>$(\\frac{k}{i}\\cdot\\frac{k}{i+1})\\cdot\\frac{k}{i+2}$<br><br>$\\dots$<br>\n",
    "<br>In all of our previous approach we had initialised the value of exponential sum to zero. Since, we wont be calculating the factorial and exponential terms separately, we need to initialise the sum to 1 "
   ]
  },
  {
   "cell_type": "code",
   "execution_count": 58,
   "metadata": {},
   "outputs": [
    {
     "data": {
      "image/png": "[encoded data removed]",
      "text/plain": [
       "<Figure size 720x720 with 4 Axes>"
      ]
     },
     "metadata": {
      "needs_background": "light"
     },
     "output_type": "display_data"
    }
   ],
   "source": [
    "def e_pow4(x):\n",
    "    e_to_2 = 1\n",
    "    t1 = 1\n",
    "    t2 = 1\n",
    "    i  = 1 \n",
    "    term = 1\n",
    "    fact = 1\n",
    "    while t1 > 1e-5:\n",
    "        t1 = t1*x/i\n",
    "        e_to_2 += t1\n",
    "        i = i + 1\n",
    "    return e_to_2, i + 1\n",
    "\n",
    "test(e_pow4,math.exp)"
   ]
  },
  {
   "cell_type": "code",
   "execution_count": 60,
   "metadata": {},
   "outputs": [
    {
     "name": "stdout",
     "output_type": "stream",
     "text": [
      "6.89 µs ± 257 ns per loop (mean ± std. dev. of 7 runs, 100000 loops each)\n"
     ]
    }
   ],
   "source": [
    "%%timeit\n",
    "def e_pow4(x):\n",
    "    e_to_2 = 1\n",
    "    t1 = 1\n",
    "    t2 = 1\n",
    "    i  = 1 \n",
    "    term = 1\n",
    "    fact = 1\n",
    "    while t1 > 1e-5:\n",
    "        t1 = t1*x/i\n",
    "        e_to_2 += t1\n",
    "        i = i + 1\n",
    "    return e_to_2\n",
    "\n",
    "e_pow4(5)"
   ]
  },
  {
   "cell_type": "markdown",
   "metadata": {},
   "source": [
    "### We get a speed up of 10x !"
   ]
  },
  {
   "cell_type": "markdown",
   "metadata": {},
   "source": [
    "In our previous function <b>e_pow3()</b> we got a speed up of <b>5x</b> and after making a <b>change in the way we were calculating each of our terms</b> in the series we get a speed up of <b>10x</b>. \n",
    "<br>Instead of finding out exponent and factorial separately and then dividing the two to find the term at every iteration we applied the same logic in which we use the previously found term and multiply it with the right factor."
   ]
  },
  {
   "cell_type": "markdown",
   "metadata": {},
   "source": [
    "***\n"
   ]
  },
  {
   "cell_type": "markdown",
   "metadata": {},
   "source": [
    "Now we have one more optimization method that we used in our exponential function, which could be of use in the trigonometric series. Lets find out!"
   ]
  },
  {
   "cell_type": "markdown",
   "metadata": {},
   "source": [
    "***"
   ]
  },
  {
   "cell_type": "markdown",
   "metadata": {},
   "source": [
    "### The Trigonometric Functions \n",
    "<br>"
   ]
  },
  {
   "cell_type": "markdown",
   "metadata": {},
   "source": [
    "Before we proceed here is a testing function for the sine, cosine functions that we will be writing "
   ]
  },
  {
   "cell_type": "code",
   "execution_count": null,
   "metadata": {},
   "outputs": [],
   "source": [
    "# list of angles from 0 - 2pi\n",
    "angle = np.linspace(0, 2* np.pi  ,num = 100 , endpoint=False)\n",
    "def testing1(func,i) :\n",
    "    if i == 0 :\n",
    "        cosx = []\n",
    "        actualcos = []\n",
    "        error = []\n",
    "        \n",
    "        #finding cos from userdefined function and math.cos, calculating error for all angles in the list\n",
    "        for i in angle :\n",
    "            cosofx = func(i)\n",
    "            actualcosofx = math.cos(i)\n",
    "            cosx.append(cosofx)\n",
    "            actualcos.append(actualcosofx)\n",
    "            error.append(round((actualcosofx - cosofx),10))\n",
    "            \n",
    "        #plotting graph of userdefined and math.cos values \n",
    "        fig, ax = plt.subplots(2,2,figsize=(10,10))\n",
    "        ax[0][0].plot(cosx, color = 'red')\n",
    "        ax[0][0].set_title(\"cosine(x)\")\n",
    "        ax[0][1].plot(actualcos)\n",
    "        ax[0][1].set_title(\"math.cos(x)\")\n",
    "        ax[1][0].plot(cosx, color = 'red')\n",
    "        ax[1][0].plot(actualcos)\n",
    "        ax[1][0].legend(['cosine(x)', 'math.cos(x)'])\n",
    "        ax[1][0].set_title(\"Superimposition of cosine(x) and math.cos(x)\")\n",
    "        ax[1][1].plot(error)\n",
    "        ax[1][1].set_title(\"error\")\n",
    "    if i == 1 :\n",
    "        sinx = []\n",
    "        actualsin = []\n",
    "        error = []\n",
    "        \n",
    "        #finding cos from userdefined function and math.cos, calculating error for all angles in the list\n",
    "        for i in angle :\n",
    "            sinofx = func(i)\n",
    "            actualsinofx = math.sin(i)\n",
    "            sinx.append(sinofx)\n",
    "            actualsin.append(actualsinofx)\n",
    "            error.append(round((actualsinofx - sinofx),10))\n",
    "            \n",
    "        #plotting graph of userdefined and math.cos values \n",
    "        fig, ax = plt.subplots(2,2,figsize=(10,10))\n",
    "        ax[0][0].plot(sinx, color = 'red')\n",
    "        ax[0][0].set_title(\"sin(x)\")\n",
    "        ax[0][1].plot(actualsin)\n",
    "        ax[0][1].set_title(\"math.sin(x)\")\n",
    "        ax[1][0].plot(sinx, color = 'red')\n",
    "        ax[1][0].plot(actualsin)\n",
    "        ax[1][0].legend(['sin(x)', 'math.sin(x)'])\n",
    "        ax[1][0].set_title(\"Superimposition of sin(x) and math.sin(x)\")\n",
    "        ax[1][1].plot(error)\n",
    "        ax[1][1].set_title(\"error\")"
   ]
  },
  {
   "cell_type": "markdown",
   "metadata": {},
   "source": [
    "#### The Cosine Function\n",
    "<br>\n",
    "$$\\cos x = \\sum_{k=0}^{\\infty} \\frac{(-1)^n}{(2n)!}x^{(2n)} = 1 - \\frac{x^2}{2!} + \\frac{x^4}{4!} - \\frac{x^6}{6!} + \\dots$$\n"
   ]
  },
  {
   "cell_type": "code",
   "execution_count": null,
   "metadata": {},
   "outputs": [],
   "source": [
    "def cosine(x):\n",
    "    cosx = 1\n",
    "    t1 = 1\n",
    "    sign = -1\n",
    "    i = 2\n",
    "    while True:\n",
    "        cosx = cosx + (sign*(x**i))/math.factorial(i)\n",
    "        sign = -sign\n",
    "        i = i + 2\n",
    "        if t1 == cosx :\n",
    "            break\n",
    "        t1 = cosx\n",
    "    return cosx"
   ]
  },
  {
   "cell_type": "code",
   "execution_count": null,
   "metadata": {},
   "outputs": [],
   "source": [
    "print(round(cosine(1.04),2)) # 60degeree"
   ]
  },
  {
   "cell_type": "code",
   "execution_count": null,
   "metadata": {},
   "outputs": [],
   "source": [
    "testing1(cosine,0)"
   ]
  },
  {
   "cell_type": "markdown",
   "metadata": {},
   "source": [
    "Similarly we can write a naive implementation for finding $\\sin x$"
   ]
  },
  {
   "cell_type": "markdown",
   "metadata": {},
   "source": [
    "\n",
    "$$\\sin x = \\sum_{k=0}^{\\infty} \\frac{(-1)^n}{(2n + 1)!}x^{(2n+1)} = x - \\frac{x^3}{3!} + \\frac{x^5}{5!} - \\dots$$"
   ]
  },
  {
   "cell_type": "code",
   "execution_count": null,
   "metadata": {},
   "outputs": [],
   "source": [
    "def sin(x):\n",
    "    t1 = i =sine = 0\n",
    "    sign = -1\n",
    "    while True:\n",
    "        sign = -sign\n",
    "        sine = sine + ((x**(2.0*i+1))/math.factorial(2*i+1))*sign\n",
    "        i = i + 1\n",
    "        if t1 == sine : \n",
    "            break\n",
    "        t1 = sine\n",
    "    return sine\n",
    "print(sin(0.52))"
   ]
  },
  {
   "cell_type": "code",
   "execution_count": null,
   "metadata": {},
   "outputs": [],
   "source": [
    "testing1(sin,1)"
   ]
  },
  {
   "cell_type": "markdown",
   "metadata": {},
   "source": [
    "The cosine expansion consists of even powers whereas the sine expansion consists of the odd powers, we try to make a single function which can calculate both sine and cosine function\n",
    "### Here is a function that calculates both sine and cosine \n",
    "We pass the indicator i = 0 for cosine and i = 1 for sine"
   ]
  },
  {
   "cell_type": "code",
   "execution_count": null,
   "metadata": {},
   "outputs": [],
   "source": [
    "%%timeit\n",
    "# i = 0 == cos\n",
    "# i = 1 == sin\n",
    "def cal_sine_cosine(x,i) :\n",
    "    t1 = val = 0\n",
    "    sign = -1\n",
    "    while True:\n",
    "        sign  = -sign\n",
    "        val = val + ((x**(i))/math.factorial(i))*sign\n",
    "        i = i + 2\n",
    "        if t1 == val :\n",
    "            break\n",
    "        t1 = val\n",
    "    return val\n",
    "\n",
    "cal_sine_cosine(np.pi/3,1)"
   ]
  },
  {
   "cell_type": "code",
   "execution_count": null,
   "metadata": {},
   "outputs": [],
   "source": [
    "def cal_sine_cosine(x,i) :\n",
    "    t1 = val = 0\n",
    "    sign = -1\n",
    "    n = 0\n",
    "    while True:\n",
    "        n = n + 1\n",
    "        sign  = -sign\n",
    "        val = val + ((x**(i))/math.factorial(i))*sign\n",
    "        i = i + 2\n",
    "        if t1 == val :\n",
    "            break\n",
    "        t1 = val\n",
    "    return val, n\n",
    "\n",
    "'''\n",
    "As we move further in the series the power increases and the series converges, after a certain number of iterations the \n",
    "value of sum i.e, val does not change. For this reason we have the terminating conndition --- t1 == val \n",
    "'''"
   ]
  },
  {
   "cell_type": "markdown",
   "metadata": {},
   "source": [
    "#### You can use this function to find values of $cos x$ and $sin x$ in the following way"
   ]
  },
  {
   "cell_type": "code",
   "execution_count": null,
   "metadata": {},
   "outputs": [],
   "source": [
    "def find_cos(x) :\n",
    "    cal_sine_cosine(x,0)\n",
    "    \n",
    "def find_sin(x) :\n",
    "    cal_sine_cosine(x,1)"
   ]
  },
  {
   "cell_type": "markdown",
   "metadata": {},
   "source": [
    "Here is a testing function, where in you can check how correctly does your function calculate the values \n",
    "<br>As we would be performing optimizations on our functions we need to keep checking if the values calculated are correct values."
   ]
  },
  {
   "cell_type": "code",
   "execution_count": null,
   "metadata": {},
   "outputs": [],
   "source": [
    "angle = np.linspace(0, 2* np.pi  ,num = 100 , endpoint=False)\n",
    "def testing2(func,i) :\n",
    "    if i == 0 :\n",
    "        cosx = []\n",
    "        actualcos = []\n",
    "        error = []\n",
    "        \n",
    "        #finding cos and math.cos for every angle in the list\n",
    "        for i in angle :\n",
    "            cosofx = func(i,0)[0]\n",
    "            actualcosofx = math.cos(i)\n",
    "            cosx.append(cosofx)\n",
    "            actualcos.append(actualcosofx)\n",
    "            error.append(round((actualcosofx - cosofx),7))\n",
    "            \n",
    "        #plotting graph for userdefines and math.cos\n",
    "        fig, ax = plt.subplots(2,2,figsize=(10,10))\n",
    "        ax[0][0].plot(cosx, color = 'red')\n",
    "        ax[0][0].set_title(\"cal_sine_cosine(x,0)\")\n",
    "        ax[0][1].plot(actualcos)\n",
    "        ax[0][1].set_title(\"math.cos(x)\")\n",
    "        ax[1][0].plot(cosx, color = 'red')\n",
    "        ax[1][0].plot(actualcos)\n",
    "        ax[1][0].legend(['cal_sine_cosine(x,0)', 'math.cos(x)'])\n",
    "        ax[1][0].set_title(\"Superimposition of cal_sine_cosine(x,0) and math.cos(x)\")\n",
    "        ax[1][1].plot(error)\n",
    "        ax[1][1].set_title(\"error\")\n",
    "        \n",
    "    if i == 1 :\n",
    "        sinx = []\n",
    "        actualsin = []\n",
    "        error = []\n",
    "        \n",
    "        #finding sin and math.sin for all values in list - angle\n",
    "        for i in angle :\n",
    "            sinofx = func(i,1)[0]\n",
    "            actualsinofx = math.sin(i)\n",
    "            sinx.append(sinofx)\n",
    "            actualsin.append(actualsinofx)\n",
    "            error.append(round((actualsinofx - sinofx),7))\n",
    "            \n",
    "        #plotting graph for user defined function and math.sin\n",
    "        fig, ax = plt.subplots(2,2,figsize=(10,10))\n",
    "        ax[0][0].plot(sinx, color = 'red')\n",
    "        ax[0][0].set_title(\"cal_sine_cosine(x,1)\")\n",
    "        ax[0][1].plot(actualsin)\n",
    "        ax[0][1].set_title(\"math.sin(x)\")\n",
    "        ax[1][0].plot(sinx, color = 'red')\n",
    "        ax[1][0].plot(actualsin)\n",
    "        ax[1][0].legend(['cal_sine_cosine(x,1)', 'math.sin(x)'])\n",
    "        ax[1][0].set_title(\"Superimposition of cal_sine_cosine(x,1) and math.sin(x)\")\n",
    "        ax[1][1].plot(error)\n",
    "        ax[1][1].set_title(\"error\")"
   ]
  },
  {
   "cell_type": "code",
   "execution_count": null,
   "metadata": {},
   "outputs": [],
   "source": [
    "test(cal_sine_cosine,math.cos)"
   ]
  },
  {
   "cell_type": "code",
   "execution_count": null,
   "metadata": {},
   "outputs": [],
   "source": [
    "testing2(cal_sine_cosine,1)"
   ]
  },
  {
   "cell_type": "markdown",
   "metadata": {},
   "source": [
    "<br>\n",
    "Instead of using (x**i), we find the power and factorial in an efficient way and see its computing time"
   ]
  },
  {
   "cell_type": "code",
   "execution_count": null,
   "metadata": {},
   "outputs": [],
   "source": [
    "%%timeit\n",
    "def cal_sine_cosine1(x,i) :\n",
    "    t1 = val = 0\n",
    "    sign = 1\n",
    "    fact = 1\n",
    "    sq = x*x\n",
    "    if i == 0:\n",
    "        i = 2\n",
    "        val = 1\n",
    "        term = 1\n",
    "    if i == 1:\n",
    "        term = val = x\n",
    "        i = 3\n",
    "    while True:\n",
    "        term = term*sq\n",
    "        fact = fact*i*(i-1)\n",
    "        sign  = -sign\n",
    "        val = val + (term/fact)*sign\n",
    "        i = i + 2\n",
    "        if t1 == val :\n",
    "            break\n",
    "        t1 = val\n",
    "    return val\n",
    "\n",
    "cal_sine_cosine1(np.pi/3,1)"
   ]
  },
  {
   "cell_type": "markdown",
   "metadata": {},
   "source": [
    "Computation time has decreased from around 11$\\mu s$ tp 7$\\mu s$\n",
    "<br>Lets see how accurate this function is "
   ]
  },
  {
   "cell_type": "code",
   "execution_count": null,
   "metadata": {},
   "outputs": [],
   "source": [
    "def cal_sine_cosine1(x,i) :\n",
    "    t1 = val = 0\n",
    "    sign = 1\n",
    "    fact = 1\n",
    "    sq = x*x\n",
    "    n = 0\n",
    "    if i == 0:\n",
    "        i = 2\n",
    "        val = 1\n",
    "        term = 1\n",
    "    if i == 1:\n",
    "        term = val = x\n",
    "        i = 3\n",
    "    while True:\n",
    "        n = n + 1\n",
    "        term = term*sq\n",
    "        fact = fact*i*(i-1)\n",
    "        sign  = -sign\n",
    "        val = val + (term/fact)*sign\n",
    "        i = i + 2\n",
    "        if t1 == val :\n",
    "            break\n",
    "        t1 = val\n",
    "    return val, n"
   ]
  },
  {
   "cell_type": "code",
   "execution_count": null,
   "metadata": {},
   "outputs": [],
   "source": [
    "testing2(cal_sine_cosine1,0)"
   ]
  },
  {
   "cell_type": "code",
   "execution_count": null,
   "metadata": {},
   "outputs": [],
   "source": [
    "testing2(cal_sine_cosine1,1)"
   ]
  },
  {
   "cell_type": "markdown",
   "metadata": {},
   "source": [
    "#### We can set a precision limit to reduce the no.of iterations "
   ]
  },
  {
   "cell_type": "code",
   "execution_count": null,
   "metadata": {},
   "outputs": [],
   "source": [
    "%%timeit\n",
    "def cal_sine_cosine2(x,i) :\n",
    "    fact = 1\n",
    "    sq = x*x\n",
    "    t1 = 1\n",
    "    if i == 0:\n",
    "        i = 2\n",
    "        val = 1\n",
    "        term = 1\n",
    "    if i == 1:\n",
    "        term = val = x\n",
    "        i = 3\n",
    "    while abs(t1) >= 1e-5:\n",
    "        term = term*sq\n",
    "        fact = fact*i*(i-1)*(-1)\n",
    "        t1 = (term/fact)\n",
    "        val = val + t1\n",
    "        i = i + 2\n",
    "        \n",
    "    return val\n",
    "\n",
    "cal_sine_cosine2(np.pi/6,1)"
   ]
  },
  {
   "cell_type": "markdown",
   "metadata": {},
   "source": [
    "#### There is significant reduction in the computation time from 12.5 µs ± 103 ns per loop to 3$\\mu s$"
   ]
  },
  {
   "cell_type": "code",
   "execution_count": null,
   "metadata": {},
   "outputs": [],
   "source": [
    "def cal_sine_cosine2(x,i) :\n",
    "    fact = 1\n",
    "    sq = x*x\n",
    "    n = 0\n",
    "    if i == 0:\n",
    "        i = 2\n",
    "        val = 1\n",
    "        term = 1\n",
    "    if i == 1:\n",
    "        term = val = x\n",
    "        i = 3\n",
    "    t1 = 1\n",
    "    n = 0\n",
    "    while abs(t1) > 1e-5:\n",
    "        n = n + 1\n",
    "        term = term*sq\n",
    "        fact = fact*(i*(i-1))*(-1)\n",
    "        t1 = (term/fact)\n",
    "        val = val + t1\n",
    "        i = i + 2\n",
    "    return val, n"
   ]
  },
  {
   "cell_type": "code",
   "execution_count": null,
   "metadata": {},
   "outputs": [],
   "source": [
    "testing2(cal_sine_cosine2,0)"
   ]
  },
  {
   "cell_type": "code",
   "execution_count": null,
   "metadata": {},
   "outputs": [],
   "source": [
    "testing2(cal_sine_cosine2,1)"
   ]
  },
  {
   "cell_type": "markdown",
   "metadata": {},
   "source": []
  },
  {
   "cell_type": "markdown",
   "metadata": {},
   "source": [
    "\n",
    "<br> We will now replace $\\frac{a.a.a...}{1.2.3...}$ by \n",
    "<br><br>$\\frac{k}{i}$<br><br>$(\\frac{k}{i})*\\frac{k}{i+1}*\\frac{k}{i+2}$<br><br>$(\\frac{k}{i}*\\frac{k}{i+1}*\\frac{k}{i+2})*\\frac{k}{i+3}*\\frac{k}{i+4}$<br><br>$\\dots$<br>"
   ]
  },
  {
   "cell_type": "code",
   "execution_count": null,
   "metadata": {},
   "outputs": [],
   "source": [
    "%%timeit\n",
    "def cal_sine_cosine3(x,i) :\n",
    "    fact = 1\n",
    "    sq = x*x\n",
    "    if i == 0:\n",
    "        i = 2\n",
    "        val = 1\n",
    "        term = 1\n",
    "    if i == 1:\n",
    "        term = val = x\n",
    "        i = 3\n",
    "    t1 = val\n",
    "    while abs(t1) > 1e-5:\n",
    "        t1 = t1*sq/(i*(i-1))*(-1)\n",
    "        val = val + t1\n",
    "        i = i + 2\n",
    "    return val\n",
    "\n",
    "cal_sine_cosine3(np.pi/6,1)"
   ]
  },
  {
   "cell_type": "code",
   "execution_count": null,
   "metadata": {},
   "outputs": [],
   "source": [
    "def cal_sine_cosine3(x,i) :\n",
    "    fact = 1\n",
    "    sq = x*x\n",
    "    n = 0\n",
    "    if i == 0:\n",
    "        i = 2\n",
    "        val = 1\n",
    "        term = 1\n",
    "    if i == 1:\n",
    "        term = val = x\n",
    "        i = 3\n",
    "    t1 = val\n",
    "    con_val = []\n",
    "    while abs(t1) > 1e-5:\n",
    "        t1 = t1*sq/(i*(i-1))*(-1)\n",
    "        val = val + t1\n",
    "        i = i + 2\n",
    "        n = n + 1\n",
    "        con_val.append(val)\n",
    "    return val, n, con_val"
   ]
  },
  {
   "cell_type": "code",
   "execution_count": null,
   "metadata": {},
   "outputs": [],
   "source": [
    "testing2(cal_sine_cosine3,1)"
   ]
  },
  {
   "cell_type": "code",
   "execution_count": null,
   "metadata": {},
   "outputs": [],
   "source": [
    "testing2(cal_sine_cosine3,0)"
   ]
  },
  {
   "cell_type": "code",
   "execution_count": null,
   "metadata": {},
   "outputs": [],
   "source": [
    "x = np.linspace(0, 2* np.pi  ,num = 100 , endpoint=False)\n",
    "cosx = []\n",
    "actualcosx = []\n",
    "cosx_itr = []\n",
    "sinx = []\n",
    "actualsinx = []\n",
    "sinx_itr = []\n",
    "for i in x :\n",
    "    tup = cal_sine_cosine3(i,0)\n",
    "    cosx.append(tup[0])\n",
    "    cosx_itr.append(tup[1])\n",
    "    actualcosx.append(math.cos(i))\n",
    "    tup = cal_sine_cosine3(i,1)\n",
    "    sinx.append(tup[0])\n",
    "    sinx_itr.append(tup[1])\n",
    "    actualsinx.append(math.sin(i))  "
   ]
  },
  {
   "cell_type": "markdown",
   "metadata": {},
   "source": [
    "We calculated cos(x), sin(x), math.cos(x), math.sin(x), the number of iterations required to calculate each of these values by function cal_sine_cosine(x,i). Lets take a look at visual representation of these values"
   ]
  },
  {
   "cell_type": "code",
   "execution_count": null,
   "metadata": {},
   "outputs": [],
   "source": [
    "fig, ax = plt.subplots(2,2,figsize=(15,10)) \n",
    "ax[0][0].plot(cosx, color ='red')\n",
    "ax[0][0].plot(actualcosx)\n",
    "ax[0][0].set_title(\"cos(x)\")\n",
    "ax[0][0].legend(['cal_sine_cosine(x,0)', 'math.cos(x)'])\n",
    "ax[0][1].plot(sinx, color = 'red')\n",
    "ax[0][1].plot(actualsinx)\n",
    "ax[0][1].set_title(\"sin(x)\")\n",
    "ax[0][1].legend(['cal_sine_cosine(x,1)', 'math.sin(x)'])\n",
    "ax[1][0].plot(cosx_itr)\n",
    "ax[1][1].plot(sinx_itr)"
   ]
  },
  {
   "cell_type": "markdown",
   "metadata": {},
   "source": [
    "We can see that as the angles approaches 2pi the number of iterations increase. \n",
    "<br>Let us consider one of the lasts terms in our list of angles. At each iteration we will store the value of sum that is the value of cos(x) / sin(x) and plot it, then check these values for errors. "
   ]
  },
  {
   "cell_type": "code",
   "execution_count": null,
   "metadata": {},
   "outputs": [],
   "source": [
    "fig, ax = plt.subplots(1,1,figsize=(10,10))\n",
    "tup = cal_sine_cosine3(x[97],0)\n",
    "ax.plot(tup[2])\n",
    "ans = math.cos(x[97])\n",
    "error = []\n",
    "for i in tup[2] : \n",
    "    error.append(ans - i)\n",
    "ax.plot(error, color = 'red')\n",
    "ax.legend(['cal_sine_cosine('+str(round(x[97],3))+',0)', 'error'])\n",
    "ax.set_xlabel(\"No.of Iterations\")\n",
    "ax.set_ylabel(\"Value\")"
   ]
  },
  {
   "cell_type": "markdown",
   "metadata": {},
   "source": [
    "***"
   ]
  },
  {
   "cell_type": "markdown",
   "metadata": {},
   "source": [
    "Till now we have seen 4 functions that calculate sine and cosine values. Using %%timeit we also found out the computation time required by these functions. \n",
    "<br>Now lets take a look at the number of iterations."
   ]
  },
  {
   "cell_type": "code",
   "execution_count": null,
   "metadata": {},
   "outputs": [],
   "source": [
    "itr = []\n",
    "itr1 = []\n",
    "itr2 = []\n",
    "itr3 = []\n",
    "for i in x :\n",
    "    itr.append(cal_sine_cosine(i,0)[1])\n",
    "    itr1.append(cal_sine_cosine1(i,0)[1])\n",
    "    itr2.append(cal_sine_cosine2(i,0)[1])\n",
    "    itr3.append(cal_sine_cosine3(i,0)[1])\n",
    "\n",
    "fig, ax = plt.subplots(1,2, figsize = (15,7))\n",
    "ax[0].plot(itr,color = 'red')\n",
    "ax[0].plot(itr1, color = 'blue')\n",
    "ax[0].plot(itr2,color = 'yellow')\n",
    "ax[0].plot(itr3, color  = 'green')\n",
    "ax[0].legend(['cal_sine_cosine(x)','cal_sine_cosine1(x)','cal_sine_cosine2(x)','cal_sine_cosine3(x)'])\n",
    "ax[0].set_ylabel(\"Iterations\")\n",
    "\n",
    "itr4 = []\n",
    "itr4.append(cal_sine_cosine(0,0)[1])\n",
    "itr4.append(cal_sine_cosine1(0,0)[1])\n",
    "itr4.append(cal_sine_cosine2(0,0)[1])\n",
    "itr4.append(cal_sine_cosine3(0,0)[1])\n",
    "xaxis = [\"cal_sine_cosine(0,0)\",\"cal_sine_cosine1(0,0)\",\"cal_sine_cosine2(0,0)\",\"cal_sine_cosine3(0,0)\"]\n",
    "ax[1].plot(xaxis,itr4)\n",
    "ax[1].set_title(\"No.of Iterations when x  = 0\")\n",
    "ax[1].set_xlabel(\"cal_sine_cosine(x) functions [Naive --> Optimized]\")\n",
    "ax[1].set_ylabel(\"Iterations\")"
   ]
  },
  {
   "cell_type": "markdown",
   "metadata": {},
   "source": [
    "The number of iterations have decreased with increased optimization. \n",
    "<br>The last two functions have the same no.of iterations that is why you can't see yellow - they overlap\n",
    "<br>In the second graph at the right, we can see the number of iterations taken by each function to find cos(0)\n",
    "<br>What if we set a precision limit to our very first naive implementation of calculating sine and cosine, how will the graph for number of iterations look?"
   ]
  },
  {
   "cell_type": "code",
   "execution_count": null,
   "metadata": {},
   "outputs": [],
   "source": [
    "def cal_sine_cosine4(x,i) :\n",
    "    t1 = 1\n",
    "    val = 0\n",
    "    sign = -1\n",
    "    n = 0\n",
    "    while abs(t1) > 1e-5:\n",
    "        n = n + 1\n",
    "        sign  = -sign\n",
    "        t1 = ((x**(i))/math.factorial(i))*sign\n",
    "        val = val + t1\n",
    "        i = i + 2\n",
    "    return val, n"
   ]
  },
  {
   "cell_type": "code",
   "execution_count": null,
   "metadata": {},
   "outputs": [],
   "source": [
    "itr4 = []\n",
    "itr41 = []\n",
    "itr = []\n",
    "itr1 = []\n",
    "angle = np.linspace(0, 2* np.pi  ,num = 101 , endpoint=True)\n",
    "for i in angle :\n",
    "    itr4.append(cal_sine_cosine4(i,0)[1])\n",
    "    itr41.append(cal_sine_cosine4(i,1)[1])\n",
    "    itr.append(cal_sine_cosine(i,0)[1])\n",
    "    itr1.append(cal_sine_cosine(i,1)[1])\n",
    "\n",
    "fig, ax = plt.subplots(1,2, figsize = (15,7))\n",
    "ax[0].plot(itr4)\n",
    "ax[0].plot(itr, color = 'orange')\n",
    "ax[0].set_ylabel(\"Iterations for finding cos\")\n",
    "ax[0].legend(['cal_sine_cosine4(x,0)','cal_sine_cosine(x,0)'])\n",
    "ax[1].plot(itr41)\n",
    "ax[1].plot(itr1, color = 'orange')\n",
    "ax[1].set_ylabel(\"Iterations for finding sine\")\n",
    "ax[1].legend(['cal_sine_cosine4(x,1)','cal_sine_cosine(x,1)'])"
   ]
  },
  {
   "cell_type": "markdown",
   "metadata": {},
   "source": [
    "The number of iterations are quite lower than the first naive implementation. The computation time required can significantly be reduced by just keeping a proper terminating condition, further optimization can be done to get an even smaller computation time."
   ]
  },
  {
   "cell_type": "markdown",
   "metadata": {},
   "source": [
    "***"
   ]
  }
 ],
 "metadata": {
  "kernelspec": {
   "display_name": "Python 3",
   "language": "python",
   "name": "python3"
  },
  "language_info": {
   "codemirror_mode": {
    "name": "ipython",
    "version": 3
   },
   "file_extension": ".py",
   "mimetype": "text/x-python",
   "name": "python",
   "nbconvert_exporter": "python",
   "pygments_lexer": "ipython3",
   "version": "3.7.0"
  }
 },
 "nbformat": 4,
 "nbformat_minor": 2
}
