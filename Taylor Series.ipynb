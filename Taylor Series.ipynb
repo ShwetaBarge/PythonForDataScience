{
 "cells": [
  {
   "cell_type": "markdown",
   "metadata": {},
   "source": [
    "## The Seen and the Unseen\n",
    "<p>\n"
   ]
  },
  {
   "cell_type": "markdown",
   "metadata": {},
   "source": [
    "<p></p>I started my journey in programming by learning C, C++ and for the past two years I've been working with Java. I recently started learning python because of its use and popularity in diverse fields such as web, game development, machine learning, AI, Data Science, etc,. My general approach for learning all these languages was that I would first understand the syntax, take up a problem, understand its requirements, and then try implementing it. It somewhat mimics the steps that are followed in developing a software, where first there is gathering of requirements, analysing, designing and developing of software that meets those requirements. As I went on developing more and more experience I realised that there is more than just meeting the requirements. Refering to Frédéric Bastiat's \" <a href = 'http://bastiat.org/en/twisatwins.html'>That Which is Seen, and That Which is Not Seen</a> \", I refer to the concept of writing a program that meets the requirements as the seen aspect of it. However, software development is more than that. A good software is maintainable, ensures correctness and efficiency, is reliable. This is what I call the unseen part of it. Inorder to make the seen better a good amount of time has to be spent on the unseen.\n",
    "<p>This article focuses on the unseen part of programming. I will first talk about how the different unseen aspects affect the seen. To explain it a bit more further I will use Taylor Series as an example."
   ]
  },
  {
   "cell_type": "code",
   "execution_count": null,
   "metadata": {
    "scrolled": true
   },
   "outputs": [],
   "source": []
  },
  {
   "cell_type": "markdown",
   "metadata": {},
   "source": [
    "### Performance"
   ]
  },
  {
   "cell_type": "markdown",
   "metadata": {},
   "source": [
    "As a programmer I have written codes that ideally solves a problem. Writing codes involved thinking of some logic and implementing it. The first implementation is called naive implementation. This naive implementation works fine on a single system, for a single user and a limited amount of data. But when this implementation is used in real-time it faces different challenges. It faces a large amount of data and has to deliver the output on time. If the problem uses real-time data then the time taken to generate the output will determine whether the output is valid or up-to-date. All these characteristics determine the performance of a program or a software. An optimized implementation will have reduced computation time and hence better performance. Therefore to reduce computation time a programmer need to take right decisions during implementation. The end user sees the implementation giving the correct result. They do not see all the optimization that is giving them this performance."
   ]
  },
  {
   "cell_type": "code",
   "execution_count": null,
   "metadata": {
    "scrolled": true
   },
   "outputs": [],
   "source": []
  },
  {
   "cell_type": "markdown",
   "metadata": {},
   "source": [
    "### Visualization"
   ]
  },
  {
   "cell_type": "markdown",
   "metadata": {},
   "source": [
    "Right from school visualization has helped me understand and remember things better rather than just looking at paragraphs and numbers as it must be the case for most of you. Be it flow charts, mind maps, bar graphs or diagrams, visualization helps in understanding and retaining the information in a faster and better way. Similarly data visualization has its own importance in programming. Data Scientist work with huge amount of data and use data visualization to gain insight, understand relations and patterns existing in the data. I used visualization with similar goals - to gain insight on the performance of my function. It made me question the pattern I was seeing and take different decisions regarding optimization of the function. It helped me monitor the function and keep a check for correctness. In the end I could see a faster and more accurate function. All this visualization of data that helped in optimization and testing goes unseen. Visualization helps in understanding other unseen aspects which inturn helps in making the seen better. \n",
    "\n",
    "  "
   ]
  },
  {
   "cell_type": "code",
   "execution_count": null,
   "metadata": {
    "scrolled": true
   },
   "outputs": [],
   "source": []
  },
  {
   "cell_type": "markdown",
   "metadata": {},
   "source": [
    "### Testing"
   ]
  },
  {
   "cell_type": "markdown",
   "metadata": {},
   "source": [
    "After writing a program I would usually test it for a few cases to check whether it gives the right output but that doesn't capture all the corner cases. As I want to make my program better I would be making changes regarding its performance. While I am doing this I need to ensure that these changes are not introducing any bugs in the implementation. Testing helps in ensuring that. The user sees the correct output, what they do not see is the steps taken to ensure that the program gives the correct output."
   ]
  },
  {
   "cell_type": "markdown",
   "metadata": {},
   "source": [
    "To test my functions I need a reference output, for which there exists library functions. Instead of writing a different testing function for each of them I will make a generic testing function and call it <i>theSeenAndTheUnseenTest()</i>. Each function has its own set of test cases, the trigonometric function will have different angles, the geometric series will have values between $0$ and $1$, the exponential function will have some different values. Therefore <i>theSeenAndTheUnseenTest()</i> will have three parameters - my function, library function and the respective testcases. <i>theSeenAndTheUnseenTest()</i> will test my function for various testcases and find the error. Since visualization is so important, it will also plot the result for my function, library function and the error. "
   ]
  },
  {
   "cell_type": "code",
   "execution_count": 2,
   "metadata": {
    "scrolled": true
   },
   "outputs": [],
   "source": [
    "import numpy as np\n",
    "import math\n",
    "import matplotlib.pyplot as plt"
   ]
  },
  {
   "cell_type": "code",
   "execution_count": 3,
   "metadata": {
    "scrolled": true
   },
   "outputs": [],
   "source": [
    "testcase_exp = np.linspace(20, 70, num = 50, endpoint = False)\n",
    "testcase_trig = np.linspace(0, 2*np.pi, num = 100, endpoint = False)\n",
    "\n",
    "#Testing Function\n",
    "def theSeenAndTheUnseenTest(func1, func2, testcase) :\n",
    "    \n",
    "    ourvalues = []\n",
    "    actualvalues = []\n",
    "    error = []\n",
    "    failed= []\n",
    "    \n",
    "    # This loop stores the output of the defined function,\n",
    "    # output of inbuilt function in lists, and calculates\n",
    "    # error\n",
    "    for i in testcase :\n",
    "        o = (func1(i)[0])\n",
    "        a = (func2(i))\n",
    "        ourvalues.append(o)\n",
    "        actualvalues.append(a)\n",
    "        e = ((a-o)/a)*100\n",
    "        error.append(e)   # error\n",
    "        if e > 0.01 :\n",
    "            failed.append(i);\n",
    "            \n",
    "    fig, ax = plt.subplots(1,3,figsize=(20,5))\n",
    "\n",
    "    # 1st subplot - plots values of defined function\n",
    "    ax[0].plot(testcase, ourvalues, color = 'red')\n",
    "    ax[0].set_title(func1.__name__ + \"()\")\n",
    "    ax[0].set_xlabel(\"testcases\")\n",
    "\n",
    "    # 2nd subplot - plots values of inbuilt function\n",
    "    ax[1].plot(testcase, actualvalues)\n",
    "    ax[1].set_title(func2.__name__+\"()\")\n",
    "    ax[1].set_xlabel(\"testcases\")\n",
    "\n",
    "    # 3rd subplot - plots the error\n",
    "    ax[2].plot(testcase, error)\n",
    "    ax[2].set_title(\"error\")\n",
    "    avg_error = sum(error)/len(error)\n",
    "\n",
    "    # Title when all testcases are passed\n",
    "    if(avg_error < 0.01) :\n",
    "        fig.suptitle(\"All test cases passed, Accuracy: \"+str(100-avg_error), fontsize = 12)\n",
    "        ax[2].text(0.5, -0.17, \"Average Error :\" + str(avg_error)+ \"% \\n < 0.01%\",\n",
    "                   size=12, ha=\"center\", transform=ax[2].transAxes)\n",
    "    # Title when not all testcases are passed\n",
    "    else :\n",
    "        fig.suptitle(\"Accuracy: \"+str(100-avg_error), fontsize = 12)\n",
    "        ax[2].text(0.5, -0.17, \"Average Error :\" + str(avg_error)+ \"% \\n > 0.01%\",\n",
    "                   size=12, ha=\"center\", transform=ax[2].transAxes)"
   ]
  },
  {
   "cell_type": "markdown",
   "metadata": {},
   "source": [
    "------------------------------"
   ]
  },
  {
   "cell_type": "markdown",
   "metadata": {},
   "source": [
    "### Taylor Series\n",
    "<p>A Taylor Series is an expansion of a function into an infinite sum of terms, with increasing exponents of a variable. Any continuous function can be expressed as Taylor Series. To know more about Taylor Series click \n",
    "    <a href='https://en.wikipedia.org/wiki/Taylor_series'>here</a>.\n",
    "<p>I would be working on the following functions."
   ]
  },
  {
   "cell_type": "markdown",
   "metadata": {},
   "source": [
    "#### The geometric series  $\\frac{1}{(1-x)}$\n",
    "<br>$$\\frac{1}{(1-x)} = \\sum_{k=0}^{\\infty} x^n = 1 + x + x^2 + x^3 + \\dots$$ "
   ]
  },
  {
   "cell_type": "markdown",
   "metadata": {},
   "source": [
    "#### The exponential function $e^x$\n",
    "<br>$$e^x = \\sum_{k=0}^{\\infty} \\frac{x^k}{k!} = 1 + x + \\frac{x^2}{2!} + \\frac{x^3}{3!} + \\dots$$ \n"
   ]
  },
  {
   "cell_type": "markdown",
   "metadata": {},
   "source": [
    "#### The Trigonometric functions\n",
    "$$\\sin x = \\sum_{k=0}^{\\infty} \\frac{(-1)^n}{(2n + 1)!}x^{(2n+1)} = x - \\frac{x^3}{3!} + \\frac{x^5}{5!} - \\dots$$\n",
    "<br>\n",
    "$$\\cos x = \\sum_{k=0}^{\\infty} \\frac{(-1)^n}{(2n)!}x^{(2n)} = 1 - \\frac{x^2}{2!} + \\frac{x^4}{4!} - \\frac{x^6}{6!} + \\dots$$"
   ]
  },
  {
   "cell_type": "markdown",
   "metadata": {},
   "source": [
    "***\n"
   ]
  },
  {
   "cell_type": "markdown",
   "metadata": {},
   "source": [
    "### The geometric series \n",
    "<br>$$\\frac{1}{(1-x)} = \\sum_{k=0}^{\\infty} x^n = 1 + x + x^2 + x^3 + \\dots$$ \n",
    "<br>This holds true when $|x| < 1$"
   ]
  },
  {
   "cell_type": "markdown",
   "metadata": {},
   "source": [
    "Since the value of $|x| < 1$ and the power goes on increasing, the series converges. This means that the end terms approximates to zero. This is how my naive implementation will look like, I will go one calculating the series till I reach a term which equals zero.\n"
   ]
  },
  {
   "cell_type": "code",
   "execution_count": 15,
   "metadata": {
    "scrolled": true
   },
   "outputs": [],
   "source": [
    "def gpsum_naive(a):\n",
    "    s = 0\n",
    "    i = 0\n",
    "    b = 1\n",
    "    while(b != 0) :\n",
    "        b = pow(a,i)\n",
    "        s = s + b\n",
    "        i = i + 1\n",
    "    return s, i"
   ]
  },
  {
   "cell_type": "code",
   "execution_count": 16,
   "metadata": {
    "scrolled": true
   },
   "outputs": [],
   "source": [
    "def gp(x) :\n",
    "    return (1/(1-x))"
   ]
  },
  {
   "cell_type": "markdown",
   "metadata": {},
   "source": [
    "I have a generic testing function defined, I will call it to check my naive implementation."
   ]
  },
  {
   "cell_type": "code",
   "execution_count": 17,
   "metadata": {
    "scrolled": true
   },
   "outputs": [
    {
     "data": {
      "image/png": "[encoded data removed]",
      "text/plain": [
       "<Figure size 1440x360 with 3 Axes>"
      ]
     },
     "metadata": {
      "needs_background": "light"
     },
     "output_type": "display_data"
    }
   ],
   "source": [
    "theSeenAndTheUnseenTest(gpsum_naive, gp, np.linspace(0.1, 1, num = 9, endpoint = False))"
   ]
  },
  {
   "cell_type": "code",
   "execution_count": 26,
   "metadata": {
    "scrolled": true
   },
   "outputs": [
    {
     "name": "stdout",
     "output_type": "stream",
     "text": [
      "750 µs ± 74 µs per loop (mean ± std. dev. of 7 runs, 1000 loops each)\n"
     ]
    }
   ],
   "source": [
    "%%timeit \n",
    "gpsum_naive(0.5)"
   ]
  },
  {
   "cell_type": "code",
   "execution_count": 27,
   "metadata": {
    "scrolled": true
   },
   "outputs": [
    {
     "name": "stdout",
     "output_type": "stream",
     "text": [
      "6.05 ms ± 1.7 ms per loop (mean ± std. dev. of 7 runs, 100 loops each)\n"
     ]
    }
   ],
   "source": [
    "%%timeit\n",
    "gpsum_naive(0.9)"
   ]
  },
  {
   "cell_type": "code",
   "execution_count": 11,
   "metadata": {
    "scrolled": true
   },
   "outputs": [
    {
     "name": "stdout",
     "output_type": "stream",
     "text": [
      "2.07 ms ± 41.9 µs per loop (mean ± std. dev. of 7 runs, 100 loops each)\n",
      "707 µs ± 151 µs per loop (mean ± std. dev. of 7 runs, 1000 loops each)\n",
      "609 µs ± 19.9 µs per loop (mean ± std. dev. of 7 runs, 1000 loops each) 609 µs ± 19.9 µs per loop (mean ± std. dev. of 7 runs, 1000 loops each)\n"
     ]
    }
   ],
   "source": [
    "%timeit -o gpsum_naive(0.9)\n",
    "%timeit -o gpsum_naive(0.7)"
   ]
  },
  {
   "cell_type": "code",
   "execution_count": null,
   "metadata": {
    "scrolled": true
   },
   "outputs": [],
   "source": []
  },
  {
   "cell_type": "code",
   "execution_count": null,
   "metadata": {
    "scrolled": true
   },
   "outputs": [],
   "source": []
  },
  {
   "cell_type": "markdown",
   "metadata": {},
   "source": [
    "For $x = 0.9$ the computation time is greatert than for $x = 0.5$. Why does this happen? How does the series converge for different values of $x$ ?"
   ]
  },
  {
   "cell_type": "code",
   "execution_count": 12,
   "metadata": {
    "scrolled": true
   },
   "outputs": [],
   "source": [
    "'''This function plots the terms from 0th to 20th power$'''\n",
    "def plot_term(terms) :\n",
    "    l = []\n",
    "    for x in terms :\n",
    "        sl = []\n",
    "        for i in range(0,20) :\n",
    "            sl.append(x**i)\n",
    "        l.append(sl)\n",
    "\n",
    "    \n",
    "    if len(l) == 1 :\n",
    "        fig, ax = plt.subplots(1,1, figsize = (5,5))\n",
    "        ax.plot(l[0]);\n",
    "        ax.set_title(terms[0]);\n",
    "        ax.set_ylabel(str(terms[0])+\"$^i$\");\n",
    "        ax.set_xlabel('i');\n",
    "    else:\n",
    "        fig, ax = plt.subplots(1, len(l), figsize = (20,4))\n",
    "        \n",
    "        for i in range(0,len(l)) :\n",
    "            ax[i].plot(l[i]);\n",
    "            ax[i].set_title(terms[i]);\n",
    "            ax[i].set_ylabel(str(terms[i])+\"$^i$\");\n",
    "            ax[i].set_xlabel('i');\n",
    "            ax[i].text(5, l[i][5]+0.05, round(l[i][5],3), color = 'red')\n"
   ]
  },
  {
   "cell_type": "code",
   "execution_count": 13,
   "metadata": {
    "scrolled": true
   },
   "outputs": [
    {
     "data": {
      "image/png": "[encoded data removed]",
      "text/plain": [
       "<Figure size 1440x288 with 4 Axes>"
      ]
     },
     "metadata": {
      "needs_background": "light"
     },
     "output_type": "display_data"
    }
   ],
   "source": [
    "terms = [0.2, 0.4, 0.6, 0.8]\n",
    "plot_term(terms)"
   ]
  },
  {
   "cell_type": "markdown",
   "metadata": {},
   "source": [
    "As the value of $x$ increases, the series takes a lot longer to converge therefore the number of iterations go on increasing. The graph below shows the number of iterations taken by the series to converge."
   ]
  },
  {
   "cell_type": "code",
   "execution_count": 14,
   "metadata": {},
   "outputs": [
    {
     "data": {
      "image/png": "[encoded data removed]",
      "text/plain": [
       "<Figure size 432x432 with 1 Axes>"
      ]
     },
     "metadata": {
      "needs_background": "light"
     },
     "output_type": "display_data"
    }
   ],
   "source": [
    "itr1 = []\n",
    "a = [0.1, 0.2, 0.3, 0.4, 0.5, 0.6, 0.7, 0.8, 0.9]\n",
    "\n",
    "for i in a :\n",
    "    itr1.append(gpsum_naive(i)[1])\n",
    "    \n",
    "fig, ax = plt.subplots(1, 1, figsize = (6,6))\n",
    "ax.plot(a,itr1);\n",
    "ax.set_xlabel('x');\n",
    "ax.set_ylabel('iterations');\n",
    "ax.text(0.1, itr1[0]+70, itr1[0], color = 'red');\n",
    "ax.text(0.87, itr1[-1]+70,itr1[-1],color = 'red');"
   ]
  },
  {
   "cell_type": "markdown",
   "metadata": {},
   "source": [
    "---------------------"
   ]
  },
  {
   "cell_type": "markdown",
   "metadata": {},
   "source": [
    "Limiting the number of iterations is my first case of optimization. \n",
    "<p>The next could finding different ways to calculate power using inbuilt function.\n",
    "<p>At every iteration I can calculating the value of that term, instead I could use the previously calculated value and multiply $x$ to it to get the current term.\n",
    "    <p>In the end I will put all the optimizations together and see what is the effect."
   ]
  },
  {
   "cell_type": "markdown",
   "metadata": {},
   "source": [
    "![title](img/gp_desc.png) "
   ]
  },
  {
   "cell_type": "code",
   "execution_count": null,
   "metadata": {},
   "outputs": [],
   "source": []
  },
  {
   "cell_type": "markdown",
   "metadata": {},
   "source": [
    "![title](img/gp_iter.png) "
   ]
  },
  {
   "cell_type": "markdown",
   "metadata": {},
   "source": [
    "### Analysis"
   ]
  },
  {
   "cell_type": "markdown",
   "metadata": {},
   "source": [
    "In <i>theSeenAndTheUnseenTest()</i> the error is measured upto 1e-16. This is another reason why the iterations are so high. I need to find the right tolerance which will keeps the error below 0.01 and limit the number of iterations. \n",
    "<p>The <i>analyse()</i> will plot relation between error, iterations and tolerance."
   ]
  },
  {
   "cell_type": "code",
   "execution_count": 14,
   "metadata": {
    "scrolled": true
   },
   "outputs": [],
   "source": [
    "# modifying gpsum() such that it checks it against a given tolerance\n",
    "def gp_prec_tol(x, tole) :\n",
    "    s = 0\n",
    "    count = 0\n",
    "    t = 1 \n",
    "    while abs(t) > tole :\n",
    "        t = x**count\n",
    "        s = s + t\n",
    "        count += 1\n",
    "    return s, count\n"
   ]
  },
  {
   "cell_type": "code",
   "execution_count": 15,
   "metadata": {
    "scrolled": true
   },
   "outputs": [],
   "source": [
    "# Creating tolerance list\n",
    "tolerance_list = [0.1]\n",
    "k = 0.1\n",
    "for i in range (0,15) :\n",
    "    k /= 10\n",
    "    tolerance_list.append(k)\n"
   ]
  },
  {
   "cell_type": "code",
   "execution_count": 16,
   "metadata": {
    "scrolled": true
   },
   "outputs": [],
   "source": [
    "def analyse(func,func1,x):\n",
    "    \n",
    "    itr = []\n",
    "    error = []\n",
    "    ans = func1(x)\n",
    "    fig, ax = plt.subplots(1, 2, figsize =(12,6))\n",
    "    c = 0\n",
    "    coord = ()\n",
    "    flag = False\n",
    "    for i in tolerance_list :\n",
    "        tup = func(x, i)\n",
    "        itr.append(tup[1])\n",
    "        er = ((ans - tup[0])/ans)*100\n",
    "        c = c + 1\n",
    "        error.append(er)\n",
    "        if flag == False and er < 0.01 :\n",
    "\n",
    "            coord = (c,i,er)\n",
    "            #ax[1].text(i, er+1, i, color = 'red')\n",
    "            flag = True\n",
    "\n",
    "    ax[0].set_title(\"Iterayions vs. Tolerance\");\n",
    "    ax[0].plot(itr, color = 'purple');\n",
    "    ax[0].set_ylabel(\"No.of Iterations\");\n",
    "    ax[0].set_xlabel(\"Tolerance\");\n",
    "    plt.setp(ax, xticklabels=[0,1e-1,1e-2,1e-3,1e-4,1e-5,1e-6,1e-7,1e-8]);\n",
    "    ax[1].set_title(\"Error Vs. Tolerance\")\n",
    "    ax[1].plot(error, color = 'indigo');\n",
    "    ax[1].text(coord[0],coord[2]+coord[2], (coord[1],coord[2]), color = \"green\")\n",
    "    ax[1].set_ylabel(\"Error\");\n",
    "    ax[1].set_xlabel(\"Tolerance\");\n",
    "    fig.suptitle(\"For \"+ func.__name__+\"( \"+str(x)+\" )\", fontsize = 12)\n",
    "\n",
    "    fig, axd = plt.subplots(1,1,figsize = (6,6))\n",
    "    axd.set_title(\"Iterations Vs. Error\");\n",
    "    axd.plot(itr, error, color = 'orange');\n",
    "    axd.set_xlabel(\"Iterations\");\n",
    "    axd.set_ylabel(\"Error\");\n",
    "\n"
   ]
  },
  {
   "cell_type": "code",
   "execution_count": 17,
   "metadata": {
    "scrolled": false
   },
   "outputs": [
    {
     "data": {
      "image/png": "[encoded data removed]",
      "text/plain": [
       "<Figure size 864x432 with 2 Axes>"
      ]
     },
     "metadata": {
      "needs_background": "light"
     },
     "output_type": "display_data"
    },
    {
     "data": {
      "image/png": "[encoded data removed]",
      "text/plain": [
       "<Figure size 432x432 with 1 Axes>"
      ]
     },
     "metadata": {
      "needs_background": "light"
     },
     "output_type": "display_data"
    }
   ],
   "source": [
    "analyse(gp_prec_tol,gp,0.9)"
   ]
  },
  {
   "cell_type": "markdown",
   "metadata": {},
   "source": [
    "<br>As the tolerance increases, the no.of iterations increase and the error goes down. \n",
    "In the graph <b> Error vs. Tolerance</b> The coordinatesin green show the first tolerance that gives error $< 0.01$ i.e., $tolerance = 0.0001$.\n",
    "<br>I will still check it for a value greater than 0.9"
   ]
  },
  {
   "cell_type": "code",
   "execution_count": 18,
   "metadata": {
    "scrolled": false
   },
   "outputs": [
    {
     "data": {
      "image/png": "[encoded data removed]",
      "text/plain": [
       "<Figure size 864x432 with 2 Axes>"
      ]
     },
     "metadata": {
      "needs_background": "light"
     },
     "output_type": "display_data"
    },
    {
     "data": {
      "image/png": "[encoded data removed]",
      "text/plain": [
       "<Figure size 432x432 with 1 Axes>"
      ]
     },
     "metadata": {
      "needs_background": "light"
     },
     "output_type": "display_data"
    }
   ],
   "source": [
    "analyse(gp_prec_tol,gp,0.9999)"
   ]
  },
  {
   "cell_type": "markdown",
   "metadata": {},
   "source": [
    "#### 0.0001 is the smallest tolerance which keeps the error below 0.01%"
   ]
  },
  {
   "cell_type": "code",
   "execution_count": 19,
   "metadata": {
    "scrolled": true
   },
   "outputs": [],
   "source": [
    "def gpsum_tolerance(a):\n",
    "    s = 0\n",
    "    count = 0\n",
    "    t = 1 \n",
    "    while t > 0.0001 :\n",
    "        t = pow(a,count)\n",
    "        s = s + t\n",
    "        count += 1\n",
    "    return s, count"
   ]
  },
  {
   "cell_type": "code",
   "execution_count": 20,
   "metadata": {
    "scrolled": true
   },
   "outputs": [
    {
     "data": {
      "image/png": "[encoded data removed]",
      "text/plain": [
       "<Figure size 1440x360 with 3 Axes>"
      ]
     },
     "metadata": {
      "needs_background": "light"
     },
     "output_type": "display_data"
    }
   ],
   "source": [
    "theSeenAndTheUnseenTest(gpsum_tolerance, gp, np.linspace(0.1, 1, num = 20, endpoint = False))"
   ]
  },
  {
   "cell_type": "code",
   "execution_count": 21,
   "metadata": {
    "scrolled": true
   },
   "outputs": [
    {
     "name": "stdout",
     "output_type": "stream",
     "text": [
      "9.32 µs ± 1.83 µs per loop (mean ± std. dev. of 7 runs, 100000 loops each)\n"
     ]
    }
   ],
   "source": [
    "%%timeit\n",
    "gpsum_tolerance(0.5)"
   ]
  },
  {
   "cell_type": "markdown",
   "metadata": {},
   "source": [
    "#### This is 70x faster and the accuracy is 99.99%"
   ]
  },
  {
   "cell_type": "markdown",
   "metadata": {},
   "source": [
    "The graph below shows the no.of iterations taken by the naive implementation and the gpsum_tolerance()"
   ]
  },
  {
   "cell_type": "code",
   "execution_count": 22,
   "metadata": {
    "scrolled": true
   },
   "outputs": [],
   "source": [
    "def compare_functions(func1,func2):\n",
    "    itr1 = []\n",
    "    itr2 = []\n",
    "    actual = []\n",
    "    ans1 = []\n",
    "    ans2 = []\n",
    "    for i in a :\n",
    "        tup1 = func1(i)\n",
    "        tup2 = func2(i)\n",
    "        itr1.append(tup1[1])\n",
    "        itr2.append(tup2[1])\n",
    "        ans1.append(tup1[0])\n",
    "        ans2.append(tup2[0])\n",
    "        actual.append(1/(1-i))    \n",
    "    fig, ax = plt.subplots(1,2,figsize=(12,6))\n",
    "    ax[0].plot(a,itr1, color = 'red')\n",
    "    ax[0].plot(a,itr2)\n",
    "    ax[0].text(0.85,itr1[-1],itr1[-1])\n",
    "    ax[0].text(0.9,itr2[-1]+100,itr2[-1])\n",
    "    ax[0].legend([func1.__name__+\"()\", func2.__name__+\"()\"])\n",
    "    ax[0].set_title(\"Iterations\")\n",
    "    ax[0].set_ylabel(\"No.of Iterations\")\n",
    "    ax[0].set_xlabel(\"$x$\")\n",
    "    ax[1].plot(a, ans1, color = 'red')\n",
    "    ax[1].plot(a, ans2)\n",
    "    ax[1].plot(a, actual)\n",
    "    ax[1].legend([func1.__name__+\"()\",func2.__name__+\"()\",\"${1}/{(1-x)}$\"])\n",
    "    ax[1].set_title(\"Values of geometric series\")"
   ]
  },
  {
   "cell_type": "code",
   "execution_count": 23,
   "metadata": {},
   "outputs": [
    {
     "data": {
      "image/png": "[encoded data removed]",
      "text/plain": [
       "<Figure size 864x432 with 2 Axes>"
      ]
     },
     "metadata": {
      "needs_background": "light"
     },
     "output_type": "display_data"
    }
   ],
   "source": [
    "compare_functions(gpsum_naive,gpsum_tolerance)"
   ]
  },
  {
   "cell_type": "markdown",
   "metadata": {},
   "source": [
    "| Optimization | Geometric Series   |\n",
    "|------|------|\n",
    "|   Naive  |$718\\mu s$|\n",
    "| Tolerance | $10.7 \\mu s$ |"
   ]
  },
  {
   "cell_type": "code",
   "execution_count": null,
   "metadata": {},
   "outputs": [],
   "source": []
  },
  {
   "cell_type": "markdown",
   "metadata": {},
   "source": [
    "![title](img/gp_pow.png) "
   ]
  },
  {
   "cell_type": "code",
   "execution_count": 24,
   "metadata": {},
   "outputs": [],
   "source": [
    "def gpsum_pow(a):\n",
    "    s = 0\n",
    "    i = 0\n",
    "    b = 1\n",
    "    while(b != 0) :\n",
    "        b = a**i\n",
    "        s = s + b\n",
    "        i = i + 1\n",
    "    return s, i"
   ]
  },
  {
   "cell_type": "code",
   "execution_count": 25,
   "metadata": {},
   "outputs": [
    {
     "data": {
      "image/png": "[encoded data removed]",
      "text/plain": [
       "<Figure size 1440x360 with 3 Axes>"
      ]
     },
     "metadata": {
      "needs_background": "light"
     },
     "output_type": "display_data"
    }
   ],
   "source": [
    "theSeenAndTheUnseenTest(gpsum_pow, gp, np.linspace(0,1,20, endpoint = False))"
   ]
  },
  {
   "cell_type": "code",
   "execution_count": 26,
   "metadata": {
    "scrolled": true
   },
   "outputs": [
    {
     "name": "stdout",
     "output_type": "stream",
     "text": [
      "629 µs ± 44.1 µs per loop (mean ± std. dev. of 7 runs, 1000 loops each)\n"
     ]
    }
   ],
   "source": [
    "%%timeit\n",
    "gpsum_pow(0.5)"
   ]
  },
  {
   "cell_type": "markdown",
   "metadata": {},
   "source": [
    "This is still faster than the pow() function by 1.1x"
   ]
  },
  {
   "cell_type": "markdown",
   "metadata": {},
   "source": [
    "| Optimization | Geometric Series   |\n",
    "|------|------|\n",
    "|   Naive  |$718 \\mu s$|\n",
    "| Tolerance | $10.7 \\mu s$ |\n",
    "| Power | $623 \\mu s$ |"
   ]
  },
  {
   "cell_type": "markdown",
   "metadata": {},
   "source": [
    "------"
   ]
  },
  {
   "cell_type": "markdown",
   "metadata": {},
   "source": [
    "![title](img/gp_calc.png)\n"
   ]
  },
  {
   "cell_type": "code",
   "execution_count": null,
   "metadata": {},
   "outputs": [],
   "source": [
    "def gpsum_cal(a):\n",
    "    s = 1\n",
    "    t = 1\n",
    "    i = 0\n",
    "    while t != 0 :\n",
    "        t = t*a\n",
    "        s += t\n",
    "        i += 1\n",
    "    return s, i"
   ]
  },
  {
   "cell_type": "code",
   "execution_count": null,
   "metadata": {},
   "outputs": [],
   "source": [
    "theSeenAndTheUnseenTest(gpsum_cal, gp, np.linspace(0,1,9, endpoint = False))"
   ]
  },
  {
   "cell_type": "code",
   "execution_count": null,
   "metadata": {
    "scrolled": true
   },
   "outputs": [],
   "source": [
    "%%timeit\n",
    "gpsum_cal(0.5)"
   ]
  },
  {
   "cell_type": "markdown",
   "metadata": {},
   "source": [
    "### We get a speed up of $18\\times$"
   ]
  },
  {
   "cell_type": "code",
   "execution_count": null,
   "metadata": {
    "scrolled": true
   },
   "outputs": [],
   "source": [
    "def gpsum_limit1(a):\n",
    "    s = 1\n",
    "    t = 1\n",
    "    count = 1\n",
    "    while t != 0 :\n",
    "        t = t*a\n",
    "        s += t\n",
    "        count +=1\n",
    "    return s, count"
   ]
  },
  {
   "cell_type": "code",
   "execution_count": null,
   "metadata": {
    "scrolled": true
   },
   "outputs": [],
   "source": [
    "# test(gpsum_limit1,gp,testcase_gp)"
   ]
  },
  {
   "cell_type": "markdown",
   "metadata": {},
   "source": [
    "### Putting the two optimizations together"
   ]
  },
  {
   "cell_type": "code",
   "execution_count": null,
   "metadata": {
    "scrolled": true
   },
   "outputs": [],
   "source": [
    "%%timeit\n",
    "def pow_sum_limit2(a):\n",
    "    s = 1\n",
    "    t = 1\n",
    "    count = 1 \n",
    "    while t > 0.0001 :\n",
    "        t = t*a\n",
    "        s = s + t\n",
    "        count += 1\n",
    "    return s\n",
    "\n",
    "pow_sum_limit2(0.5)"
   ]
  },
  {
   "cell_type": "markdown",
   "metadata": {},
   "source": [
    "### Speed up of $650 \\times$\n",
    "Limiting the number of iterations gave me a speed up of $300\\times$, putting it togther almost doubles it.  "
   ]
  },
  {
   "cell_type": "code",
   "execution_count": null,
   "metadata": {
    "scrolled": true
   },
   "outputs": [],
   "source": [
    "def pow_sum_limit2(a):\n",
    "    s = 1\n",
    "    t = 1\n",
    "    count = 1 \n",
    "    while t > 0.0001 :\n",
    "        t = t*a\n",
    "        s = s + t\n",
    "        count += 1\n",
    "    return s, count\n",
    "\n",
    "test(pow_sum_limit2,gp,testcase_gp)"
   ]
  },
  {
   "cell_type": "code",
   "execution_count": null,
   "metadata": {
    "scrolled": true
   },
   "outputs": [],
   "source": []
  },
  {
   "cell_type": "markdown",
   "metadata": {},
   "source": [
    "To summarize the steps taken to find the geometric progression\n",
    "<ul>\n",
    "    <li>I started off with a naive implementation where I go on iterating till I get a term that is equal to $0$.</li> \n",
    "    <li>To avoid those extra iterations I set a precision limit to the loop which gave a speed up of <b>$340\\times$ while maintaining an accuracy of $99.9\\%$</b></li>\n",
    "    <li>Then instead of calculating the exponential term for every iteration, I used the value produced in the previous       iteration and multiplied it with $'x'$. Which gave a speedup of $650\\times$.</li>\n",
    "    </ul>"
   ]
  },
  {
   "cell_type": "markdown",
   "metadata": {},
   "source": [
    "***"
   ]
  },
  {
   "cell_type": "markdown",
   "metadata": {},
   "source": [
    "### The exponential function $e^x$\n",
    "<br>$$e^x = \\sum_{k=0}^{\\infty} \\frac{x^k}{k!} = 1 + x + \\frac{x^2}{2!} + \\frac{x^3}{3!} + \\dots$$ "
   ]
  },
  {
   "cell_type": "markdown",
   "metadata": {},
   "source": [
    "In the exponential funciton there is a factorial in every term. Python provides a math.factorial(x) function that calculates the factorial of x. This adds to one more case in optimization of the function.\n",
    "<br>Following are the optimizations that I will be working on for this function.\n",
    "![title](img/exp.png)\n",
    "\n",
    "\n",
    "<p> In the end I will put these optimizations together to see how it affects the efficiency and accuracy. "
   ]
  },
  {
   "cell_type": "markdown",
   "metadata": {},
   "source": [
    "***"
   ]
  },
  {
   "cell_type": "markdown",
   "metadata": {},
   "source": [
    "#### 1] Finding the terminating condition\n",
    "<p>The following graph shows the $terms\\ in\\ e^2$, $terms\\ in\\ e^5$"
   ]
  },
  {
   "cell_type": "code",
   "execution_count": null,
   "metadata": {
    "scrolled": true
   },
   "outputs": [],
   "source": [
    "e = 1 \n",
    "i = 0\n",
    "l = []\n",
    "terms = []\n",
    "terms2 = []\n",
    "while i < 25 :\n",
    "    t = 2**i/math.factorial(i)\n",
    "    t1 = 5**i/math.factorial(i)\n",
    "    e += t\n",
    "    i = i + 1\n",
    "    l.append(e)\n",
    "    terms.append(t)\n",
    "    terms2.append(t1)\n",
    "    \n",
    "fig, ax = plt.subplots(1,3,figsize=(15,5))\n",
    "ax[0].plot(l);\n",
    "ax[1].plot(terms);\n",
    "ax[2].plot(terms2);"
   ]
  },
  {
   "cell_type": "markdown",
   "metadata": {},
   "source": [
    "As the series progresses the terms in the series initially rise to a certain value and then approach zero. This means that the values of the series won't change once we start adding zero to it. For exponential function I will keep this as the terminating condition for the naive implementation."
   ]
  },
  {
   "cell_type": "code",
   "execution_count": null,
   "metadata": {
    "scrolled": true
   },
   "outputs": [],
   "source": [
    "%%timeit\n",
    "def e_pow(x):\n",
    "    e_to_2 = 0\n",
    "    t1 = 1\n",
    "    t2 = 0\n",
    "    i  = 0 \n",
    "    while True:\n",
    "        e_to_2 += x**i/math.factorial(i)\n",
    "        t1 = t2\n",
    "        t2 = e_to_2\n",
    "        i = i + 1\n",
    "        if t1 == t2 : # The value of series doesn't change \n",
    "            break\n",
    "    return e_to_2\n",
    "\n",
    "e_pow(5)"
   ]
  },
  {
   "cell_type": "code",
   "execution_count": null,
   "metadata": {
    "scrolled": true
   },
   "outputs": [],
   "source": [
    "def e_pow(x):\n",
    "    e_to_2 = 0\n",
    "    t1 = 1\n",
    "    t2 = 0\n",
    "    i  = 0 \n",
    "    while True:\n",
    "        e_to_2 += x**i/math.factorial(i)\n",
    "        t1 = t2\n",
    "        t2 = e_to_2\n",
    "        i = i + 1\n",
    "        if t1 == t2 :\n",
    "            break\n",
    "    return e_to_2,i"
   ]
  },
  {
   "cell_type": "code",
   "execution_count": null,
   "metadata": {
    "scrolled": true
   },
   "outputs": [],
   "source": [
    "test(e_pow,math.exp,testcase_exp)"
   ]
  },
  {
   "cell_type": "markdown",
   "metadata": {},
   "source": [
    "- - - - - - - - - - - - - - - - - - - - - - - - - - - - - - - - - - - - - - - - - - - - - - - - - - - - - - - -"
   ]
  },
  {
   "cell_type": "markdown",
   "metadata": {},
   "source": [
    "As discussed earlier, python's floating point has 52 bit precision. We will set a precision limit to reduce the number of iterations. Using the analyse function to find the maximum tolerance that gives an error $< 0.01\\%$, I'll find the precision limit to reduce the number of iterations."
   ]
  },
  {
   "cell_type": "code",
   "execution_count": null,
   "metadata": {
    "scrolled": true
   },
   "outputs": [],
   "source": [
    "def e_pow_tol(x, tol):\n",
    "    e = 0\n",
    "    i = 0\n",
    "    t = 1\n",
    "    while t > tol :\n",
    "        t = x**i/math.factorial(i)\n",
    "        e += t\n",
    "        i += 1\n",
    "    return e, i"
   ]
  },
  {
   "cell_type": "markdown",
   "metadata": {},
   "source": [
    "Setting a precision limit to reduce the number of iterations."
   ]
  },
  {
   "cell_type": "code",
   "execution_count": null,
   "metadata": {
    "scrolled": true
   },
   "outputs": [],
   "source": [
    "analyse(e_pow_tol,math.exp,0.1)"
   ]
  },
  {
   "cell_type": "code",
   "execution_count": null,
   "metadata": {
    "scrolled": true
   },
   "outputs": [],
   "source": [
    "analyse(e_pow_tol,math.exp,2)"
   ]
  },
  {
   "cell_type": "code",
   "execution_count": null,
   "metadata": {
    "scrolled": true
   },
   "outputs": [],
   "source": [
    "analyse(e_pow_tol,math.exp,5)"
   ]
  },
  {
   "cell_type": "markdown",
   "metadata": {},
   "source": [
    "As the value of $x$ increases the tolerance increases. Considering $x = 2$, the <b>maximum tolerance is $0.001$."
   ]
  },
  {
   "cell_type": "code",
   "execution_count": null,
   "metadata": {
    "scrolled": true
   },
   "outputs": [],
   "source": [
    "def e_pow1(x):\n",
    "    e_to_2 = 1\n",
    "    t1 = 1\n",
    "    i  = 0 \n",
    "    while t1 > 0.001:\n",
    "        t1 = x**i/math.factorial(i)\n",
    "        e_to_2 += t1\n",
    "        i = i + 1\n",
    "    return e_to_2, i\n"
   ]
  },
  {
   "cell_type": "code",
   "execution_count": null,
   "metadata": {
    "scrolled": true
   },
   "outputs": [],
   "source": [
    "%%timeit\n",
    "def e_pow1(x):\n",
    "    e_to_2 = 1\n",
    "    t1 = 1\n",
    "    i  = 0 \n",
    "    while t1 > 0.001:\n",
    "        t1 = x**i/math.factorial(i)\n",
    "        e_to_2 += t1\n",
    "        i = i + 1\n",
    "    return e_to_2, i\n",
    "\n",
    "e_pow1(5)"
   ]
  },
  {
   "cell_type": "markdown",
   "metadata": {},
   "source": [
    "#### Optimizing the no.of iterations gives a speed up of $5\\times$"
   ]
  },
  {
   "cell_type": "markdown",
   "metadata": {},
   "source": [
    "Comparing the number of iterations taken by the naive approach and optimized function."
   ]
  },
  {
   "cell_type": "code",
   "execution_count": null,
   "metadata": {
    "scrolled": true
   },
   "outputs": [],
   "source": [
    "def compare_iter(func1, func2) : \n",
    "    itr1 = []\n",
    "    itr2 = []\n",
    "    actual = []\n",
    "    ans1 = []\n",
    "    ans2 = []\n",
    "    fig, ax = plt.subplots(1,1,figsize=(5,5))\n",
    "    for i in a :\n",
    "        tup1 = func1(i)\n",
    "        tup2 = func2(i)\n",
    "        itr1.append(tup1[1])\n",
    "        itr2.append(tup2[1])  \n",
    "      # ax.plot([i, i], [tup1[1], tup2[1]], color='grey', ls='dotted')\n",
    "      # ax.text(i, (tup1[1]+tup2[1])/2, tup1[1]-tup2[1], color='orange')\n",
    "        ax.text(i, tup1[1]-0.6, tup1[1], color = 'red')\n",
    "        ax.text(i, tup2[1]+0.4, tup2[1], color = 'purple')\n",
    "    \n",
    "    ax.plot(a,itr1, color = 'red')\n",
    "    ax.plot(a,itr2)\n",
    "    ax.legend([func1.__name__+\"()\", func2.__name__+\"()\"])\n",
    "    ax.set_title(\"Iterations\")\n",
    "    ax.set_ylabel(\"No.of Iterations\")\n",
    "    ax.set_xlabel(\"$x$\")\n",
    "    "
   ]
  },
  {
   "cell_type": "code",
   "execution_count": null,
   "metadata": {
    "scrolled": true
   },
   "outputs": [],
   "source": [
    "compare_iter(e_pow,e_pow1)"
   ]
  },
  {
   "cell_type": "markdown",
   "metadata": {},
   "source": [
    "#### The number of iterations are reduced to half"
   ]
  },
  {
   "cell_type": "markdown",
   "metadata": {},
   "source": [
    "In the exponential function the number of iterations are converging a lot faster than those in the geometric progression. The factorial in the terms of the exponential functions makes the series converge faster.\n",
    "<p>The tolerance optimzation gave a speedup of $2\\times$ and the number of iterations are also reduced to half. This means that the number of <b>iterations directly affect the speedup of te function</b>."
   ]
  },
  {
   "cell_type": "markdown",
   "metadata": {},
   "source": [
    "***"
   ]
  },
  {
   "cell_type": "markdown",
   "metadata": {},
   "source": [
    "#### 2] Replacing power function\n",
    "<p>Using the same logic that was used in geometric progression to find the $n^{th}$ term using the $(n-1)^{th}$ term."
   ]
  },
  {
   "cell_type": "code",
   "execution_count": null,
   "metadata": {
    "scrolled": true
   },
   "outputs": [],
   "source": [
    "def e_pow2(x):\n",
    "    e_to_2 = 1\n",
    "    t1 = 1\n",
    "    t2 = 0\n",
    "    term = 1\n",
    "    i = 1 \n",
    "    while True:\n",
    "        term = term*x\n",
    "        t1 = term / math.factorial(i)\n",
    "        e_to_2 += t1\n",
    "        t1 = t2\n",
    "        t2 = e_to_2\n",
    "        i = i + 1\n",
    "        if t1 == t2 :\n",
    "            break\n",
    "    return e_to_2,i\n",
    "\n",
    "#testcase = np.linspace(30, 101,num = 70,endpoint=False)\n",
    "test(e_pow2,math.exp,testcase_exp)"
   ]
  },
  {
   "cell_type": "code",
   "execution_count": null,
   "metadata": {
    "scrolled": true
   },
   "outputs": [],
   "source": [
    "%%timeit\n",
    "def e_pow2(x):\n",
    "    e_to_2 = 1\n",
    "    t1 = 1\n",
    "    t2 = 0\n",
    "    term = 1\n",
    "    i = 1 \n",
    "    while True:\n",
    "        term = term*x\n",
    "        t1 = term / math.factorial(i)\n",
    "        e_to_2 += t1\n",
    "        t1 = t2\n",
    "        t2 = e_to_2\n",
    "        i = i + 1\n",
    "        if t1 == t2 :\n",
    "            break\n",
    "    return e_to_2,i\n",
    "\n",
    "e_pow2(5)"
   ]
  },
  {
   "cell_type": "markdown",
   "metadata": {},
   "source": [
    "#### This gives a speedup of $4\\times$"
   ]
  },
  {
   "cell_type": "markdown",
   "metadata": {},
   "source": [
    "***\n"
   ]
  },
  {
   "cell_type": "markdown",
   "metadata": {},
   "source": [
    "#### 3] Replacing factorial "
   ]
  },
  {
   "cell_type": "markdown",
   "metadata": {},
   "source": [
    "Factorial of any given number $n!$  is given as \n",
    "<br>\n",
    "$n! = (n) \\cdot (n-1) \\cdot (n-2) \\dots 2 \\cdot 1$\n",
    "<br>In our function as we go on iterating, we are incrementing the value of $i$ by $1$ and at every iteration we are finding the value of math.factorial(i). Instead we can store the initial value of $i$ and $1$ and go on multiplying that value at every iteration.\n",
    "\n",
    "<br>$Iteration - 1 \\space \\space i = 1 \\space \\space fact = 1$<br><br>$Iteration - 2 \\space \\space i = 2 \\space \\space fact = 1\\cdot i$<br><br>$Iteration - 3 \\space \\space i = 3 \\space \\space fact = 1\\cdot 2 \\cdot i$<br><br>$\\dots$<br>\n",
    "<br>"
   ]
  },
  {
   "cell_type": "code",
   "execution_count": null,
   "metadata": {
    "scrolled": true
   },
   "outputs": [],
   "source": [
    "def e_pow3(x):\n",
    "    e_to_2 = 1\n",
    "    t1 = 1\n",
    "    t2 = 0\n",
    "    term = 1\n",
    "    fact = 1\n",
    "    i = 1 \n",
    "    while True:\n",
    "        fact *= i\n",
    "        t1 = x**i / fact\n",
    "        e_to_2 += t1\n",
    "        t1 = t2\n",
    "        t2 = e_to_2\n",
    "        i = i + 1\n",
    "        if t1 == t2 :\n",
    "            break\n",
    "    return e_to_2,i\n",
    "\n",
    "test(e_pow3,math.exp,testcase_exp)"
   ]
  },
  {
   "cell_type": "code",
   "execution_count": null,
   "metadata": {
    "scrolled": true
   },
   "outputs": [],
   "source": [
    "%%timeit \n",
    "def e_pow3(x):\n",
    "    e_to_2 = 1\n",
    "    t1 = 1\n",
    "    t2 = 0\n",
    "    term = 1\n",
    "    fact = 1\n",
    "    i = 1 \n",
    "    while True:\n",
    "        fact *= i\n",
    "        t1 = x**i / fact\n",
    "        e_to_2 += t1\n",
    "        t1 = t2\n",
    "        t2 = e_to_2\n",
    "        i = i + 1\n",
    "        if t1 == t2 :\n",
    "            break\n",
    "    return e_to_2\n",
    "\n",
    "e_pow3(5)"
   ]
  },
  {
   "cell_type": "markdown",
   "metadata": {},
   "source": [
    "#### The factorial optimization gives a speedup of $3\\times$"
   ]
  },
  {
   "cell_type": "markdown",
   "metadata": {},
   "source": [
    "***"
   ]
  },
  {
   "cell_type": "markdown",
   "metadata": {},
   "source": [
    "#### 4] Putting 3 optimizations together"
   ]
  },
  {
   "cell_type": "code",
   "execution_count": null,
   "metadata": {
    "scrolled": true
   },
   "outputs": [],
   "source": [
    "%%timeit\n",
    "def e_pow4(x):\n",
    "    e_to_2 = 1\n",
    "    t1 = 1\n",
    "    t1 = float(t1)\n",
    "    i  = 1 \n",
    "    term = 1\n",
    "    fact = 1\n",
    "    count = 0\n",
    "    while t1 > 0.001:\n",
    "        term *= x\n",
    "        fact *= i\n",
    "        t1 = term/fact\n",
    "        e_to_2 += t1\n",
    "        i = i + 1\n",
    "    return e_to_2\n",
    "\n",
    "e_pow4(5)"
   ]
  },
  {
   "cell_type": "code",
   "execution_count": null,
   "metadata": {
    "scrolled": true
   },
   "outputs": [],
   "source": [
    "def e_pow4(x):\n",
    "    e_to_2 = 1\n",
    "    t1 = 1\n",
    "    t1 = float(t1)\n",
    "    i  = 1 \n",
    "    term = 1\n",
    "    fact = 1\n",
    "    count = 0\n",
    "    while t1 > 0.001:\n",
    "        term *= x\n",
    "        fact *= i\n",
    "        t1 = term/fact\n",
    "        e_to_2 += t1\n",
    "        i = i + 1\n",
    "    return e_to_2, i + 1"
   ]
  },
  {
   "cell_type": "markdown",
   "metadata": {},
   "source": [
    "#### We get a speed up of 16x by putting all three of the ideas together. \n"
   ]
  },
  {
   "cell_type": "markdown",
   "metadata": {},
   "source": [
    "***"
   ]
  },
  {
   "cell_type": "markdown",
   "metadata": {},
   "source": [
    "#### Can I optimize it further ?"
   ]
  },
  {
   "cell_type": "markdown",
   "metadata": {},
   "source": [
    "What we are doing here is we are using the previously calculated exponential value multiplying it by $x$ to find the $x^k$ and similarly for factorial $k!$, our iterator is $i$, therefore we multiply our previously calculated factorial value with $i$ to get $i!$. \n",
    "<br>\n",
    "<br>At every iteration we are calculating $\\frac{a\\cdot a\\cdot a ...}{1\\cdot2\\cdot3...}$\n",
    "<br>As the no.of iterations increase the numerator and denominator go on increasing in magnitude, we then divide these two large numbers which is relatively another big calculation. \n",
    "<br>\n",
    "<br>Instead of calculating two big terms we can calculate <br><br>$\\frac{k}{i}$<br><br>$(\\frac{k}{i})\\cdot\\frac{k}{i+1}$<br><br>$(\\frac{k}{i}\\cdot\\frac{k}{i+1})\\cdot\\frac{k}{i+2}$<br><br>$\\dots$<br>\n",
    "<br>In all of our previous approach we had initialised the value of exponential sum to zero. Since, we wont be calculating the factorial and exponential terms separately, we need to initialise the sum to 1 "
   ]
  },
  {
   "cell_type": "code",
   "execution_count": null,
   "metadata": {
    "scrolled": true
   },
   "outputs": [],
   "source": [
    "def e_pow4(x):\n",
    "    e_to_2 = 1\n",
    "    t1 = 1\n",
    "    t2 = 1\n",
    "    i  = 1 \n",
    "    term = 1\n",
    "    fact = 1\n",
    "    while t1 > 0.001:\n",
    "        t1 = t1*x/i\n",
    "        e_to_2 += t1\n",
    "        i = i + 1\n",
    "    return e_to_2, i + 1\n",
    "\n",
    "test(e_pow4,math.exp,testcase_exp)"
   ]
  },
  {
   "cell_type": "code",
   "execution_count": null,
   "metadata": {
    "scrolled": true
   },
   "outputs": [],
   "source": [
    "%%timeit\n",
    "def e_pow4(x):\n",
    "    e_to_2 = 1\n",
    "    t1 = 1\n",
    "    t2 = 1\n",
    "    i  = 1 \n",
    "    term = 1\n",
    "    fact = 1\n",
    "    while t1 > 1e-5:\n",
    "        t1 = t1*x/i\n",
    "        e_to_2 += t1\n",
    "        i = i + 1\n",
    "    return e_to_2\n",
    "\n",
    "e_pow4(5)"
   ]
  },
  {
   "cell_type": "markdown",
   "metadata": {},
   "source": [
    "#### Speedup of $34\\times$ compared to Naive implementation !"
   ]
  },
  {
   "cell_type": "markdown",
   "metadata": {},
   "source": [
    "In our previous function <b>e_pow3()</b> we got a speed up of <b>16x</b> and after making a <b>change in the way we were calculating each of our terms</b> in the series we get a speed up of <b>34x</b> as compared to naive and twice as fast when compared to e_pow3(). \n",
    "<br>Instead of finding out exponent and factorial separately and then dividing the two to find the term at every iteration we applied the same logic in which we use the previously found term and multiply it with the right factor."
   ]
  },
  {
   "cell_type": "markdown",
   "metadata": {},
   "source": [
    "***\n"
   ]
  },
  {
   "cell_type": "markdown",
   "metadata": {},
   "source": [
    "### The Trigonometric Functions \n",
    "\n",
    "$$\\sin x = \\sum_{k=0}^{\\infty} \\frac{(-1)^n}{(2n + 1)!}x^{(2n+1)} = x - \\frac{x^3}{3!} + \\frac{x^5}{5!} - \\dots$$\n",
    "<br>\n",
    "$$\\cos x = \\sum_{k=0}^{\\infty} \\frac{(-1)^n}{(2n)!}x^{(2n)} = 1 - \\frac{x^2}{2!} + \\frac{x^4}{4!} - \\frac{x^6}{6!} + \\dots$$"
   ]
  },
  {
   "cell_type": "markdown",
   "metadata": {},
   "source": [
    "From the exponential function another kind of optimization can be performed on the trignometric series. "
   ]
  },
  {
   "cell_type": "markdown",
   "metadata": {},
   "source": [
    "![title](img/trig.png)"
   ]
  },
  {
   "cell_type": "markdown",
   "metadata": {},
   "source": [
    "#### The Cosine Function\n",
    "<br>\n",
    "$$\\cos x = \\sum_{k=0}^{\\infty} \\frac{(-1)^n}{(2n)!}x^{(2n)} = 1 - \\frac{x^2}{2!} + \\frac{x^4}{4!} - \\frac{x^6}{6!} + \\dots$$\n"
   ]
  },
  {
   "cell_type": "code",
   "execution_count": null,
   "metadata": {
    "scrolled": true
   },
   "outputs": [],
   "source": [
    "def cos(x) :\n",
    "    t1 = 1\n",
    "    cosx = 1\n",
    "    sign = -1\n",
    "    i = 1\n",
    "    while True:\n",
    "        term = (sign**i)*(x**(2*i))/math.factorial(2*i)\n",
    "        cosx += term\n",
    "        i += 1\n",
    "        if t1 == cosx :\n",
    "            break\n",
    "        t1 = cosx\n",
    "    return cosx,i"
   ]
  },
  {
   "cell_type": "code",
   "execution_count": null,
   "metadata": {
    "scrolled": true
   },
   "outputs": [],
   "source": [
    "test(cos,math.cos,testcase_trig)"
   ]
  },
  {
   "cell_type": "code",
   "execution_count": null,
   "metadata": {
    "scrolled": true
   },
   "outputs": [],
   "source": [
    "def cosine(x):\n",
    "    cosx = 1\n",
    "    t1 = 1\n",
    "    sign = -1\n",
    "    i = 2\n",
    "    while True:\n",
    "        cosx = cosx + (sign*(x**i))/math.factorial(i)\n",
    "        sign = -sign\n",
    "        i = i + 2\n",
    "        if t1 == cosx :\n",
    "            break\n",
    "        t1 = cosx\n",
    "    return cosx, i "
   ]
  },
  {
   "cell_type": "code",
   "execution_count": null,
   "metadata": {
    "scrolled": true
   },
   "outputs": [],
   "source": [
    "test(cosine,math.cos,testcase_trig)"
   ]
  },
  {
   "cell_type": "markdown",
   "metadata": {},
   "source": [
    "Similarly naive implementation for finding $\\sin x$"
   ]
  },
  {
   "cell_type": "markdown",
   "metadata": {},
   "source": [
    "\n",
    "$$\\sin x = \\sum_{k=0}^{\\infty} \\frac{(-1)^n}{(2n + 1)!}x^{(2n+1)} = x - \\frac{x^3}{3!} + \\frac{x^5}{5!} - \\dots$$"
   ]
  },
  {
   "cell_type": "code",
   "execution_count": null,
   "metadata": {
    "scrolled": true
   },
   "outputs": [],
   "source": [
    "def sin(x):\n",
    "    t1 = i =sine = 0\n",
    "    sign = -1\n",
    "    while True:\n",
    "        sign = -sign\n",
    "        sine = sine + ((x**(2.0*i+1))/math.factorial(2*i+1))*sign\n",
    "        i = i + 1\n",
    "        if t1 == sine : \n",
    "            break\n",
    "        t1 = sine\n",
    "    return sine, i\n"
   ]
  },
  {
   "cell_type": "code",
   "execution_count": null,
   "metadata": {
    "scrolled": true
   },
   "outputs": [],
   "source": [
    "itr1= []\n",
    "itr = []\n",
    "for i in testcase_trig :\n",
    "    itr.append(sin(i)[0])\n",
    "    itr1.append(math.sin(i))\n",
    "fig, ax = plt.subplots(1,2, figsize = (10,5))\n",
    "ax[0].plot(itr);\n",
    "ax[0].set_title(\"sin(x)\")\n",
    "ax[1].plot(itr1);\n",
    "ax[1].set_title(\"math.sin(x)\");"
   ]
  },
  {
   "cell_type": "markdown",
   "metadata": {},
   "source": [
    "________________________"
   ]
  },
  {
   "cell_type": "markdown",
   "metadata": {},
   "source": [
    "The sine and cosine functions are basically the same, the sine function consits of all the odd powered terms and cosine consists of all the even powered terms. Sine and Cosine can be calculated using one function alone.\n",
    "### Here is a function that calculates both sine and cosine \n",
    "Using the indicator i = 0 for cosine and i = 1 for sine"
   ]
  },
  {
   "cell_type": "code",
   "execution_count": null,
   "metadata": {
    "scrolled": true
   },
   "outputs": [],
   "source": [
    "%%timeit\n",
    "# i = 0 == cos\n",
    "# i = 1 == sin\n",
    "def cal_sine_cosine(x,i) :\n",
    "    t1 = val = 0\n",
    "    sign = -1\n",
    "    while True:\n",
    "        sign  = -sign\n",
    "        val = val + ((x**(i))/math.factorial(i))*sign\n",
    "        i = i + 2\n",
    "        if t1 == val :\n",
    "            break\n",
    "        t1 = val\n",
    "    return val\n",
    "\n",
    "cal_sine_cosine(np.pi/3,1)"
   ]
  },
  {
   "cell_type": "code",
   "execution_count": null,
   "metadata": {
    "scrolled": true
   },
   "outputs": [],
   "source": [
    "def cal_sine_cosine(x,i) :\n",
    "    t1 = val = 0\n",
    "    sign = -1\n",
    "    n = 0\n",
    "    while True:\n",
    "        n = n + 1\n",
    "        sign  = -sign\n",
    "        val = val + ((x**(i))/math.factorial(i))*sign\n",
    "        i = i + 2\n",
    "        if t1 == val :\n",
    "            break\n",
    "        t1 = val\n",
    "    return val, n"
   ]
  },
  {
   "cell_type": "code",
   "execution_count": null,
   "metadata": {
    "scrolled": true
   },
   "outputs": [],
   "source": [
    "def find_cos(x) :\n",
    "    return cal_sine_cosine(x,0)\n",
    "    \n",
    "def find_sin(x) :\n",
    "    return cal_sine_cosine(x,1)"
   ]
  },
  {
   "cell_type": "code",
   "execution_count": null,
   "metadata": {
    "scrolled": true
   },
   "outputs": [],
   "source": [
    "test(find_cos,math.cos,testcase_trig)"
   ]
  },
  {
   "cell_type": "code",
   "execution_count": null,
   "metadata": {
    "scrolled": true
   },
   "outputs": [],
   "source": [
    "test(find_sin,math.sin,testcase_trig)"
   ]
  },
  {
   "cell_type": "markdown",
   "metadata": {},
   "source": [
    "#### You can use this function to find values of $cos x$ and $sin x$ in the following way"
   ]
  },
  {
   "cell_type": "markdown",
   "metadata": {},
   "source": [
    "Here is a testing function, where in you can check how correctly does your function calculate the values \n",
    "<br>As we would be performing optimizations on our functions we need to keep checking if the values calculated are correct values."
   ]
  },
  {
   "cell_type": "markdown",
   "metadata": {},
   "source": [
    "<br>\n",
    "Instead of using (x**i), we find the power and factorial in an efficient way and see its computing time"
   ]
  },
  {
   "cell_type": "code",
   "execution_count": null,
   "metadata": {
    "scrolled": true
   },
   "outputs": [],
   "source": [
    "%%timeit\n",
    "def cal_sine_cosine1(x,i) :\n",
    "    t1 = val = 0\n",
    "    sign = 1\n",
    "    fact = 1\n",
    "    sq = x*x\n",
    "    if i == 0:\n",
    "        i = 2\n",
    "        val = 1\n",
    "        term = 1\n",
    "    if i == 1:\n",
    "        term = val = x\n",
    "        i = 3\n",
    "    while True:\n",
    "        term = term*sq\n",
    "        fact = fact*i*(i-1)\n",
    "        sign  = -sign\n",
    "        val = val + (term/fact)*sign\n",
    "        i = i + 2\n",
    "        if t1 == val :\n",
    "            break\n",
    "        t1 = val\n",
    "    return val\n",
    "\n",
    "cal_sine_cosine1(np.pi/3,1)"
   ]
  },
  {
   "cell_type": "markdown",
   "metadata": {},
   "source": [
    "Computation time has decreased from around 11$\\mu s$ tp 7$\\mu s$\n",
    "<br>Lets see how accurate this function is "
   ]
  },
  {
   "cell_type": "code",
   "execution_count": null,
   "metadata": {
    "scrolled": true
   },
   "outputs": [],
   "source": [
    "def cal_sine_cosine1(x,i) :\n",
    "    t1 = val = 0\n",
    "    sign = 1\n",
    "    fact = 1\n",
    "    sq = x*x\n",
    "    n = 0\n",
    "    if i == 0:\n",
    "        i = 2\n",
    "        val = 1\n",
    "        term = 1\n",
    "    if i == 1:\n",
    "        term = val = x\n",
    "        i = 3\n",
    "    while True:\n",
    "        n = n + 1\n",
    "        term = term*sq\n",
    "        fact = fact*i*(i-1)\n",
    "        sign  = -sign\n",
    "        val = val + (term/fact)*sign\n",
    "        i = i + 2\n",
    "        if t1 == val :\n",
    "            break\n",
    "        t1 = val\n",
    "    return val, n\n",
    "\n",
    "def find_cos(x) : \n",
    "    return cal_sine_cosine1(x,0)\n",
    "def find_sin(x) :\n",
    "    return cal_sine_cosine1(x,1)"
   ]
  },
  {
   "cell_type": "code",
   "execution_count": null,
   "metadata": {
    "scrolled": true
   },
   "outputs": [],
   "source": [
    "test(find_cos,math.cos,testcase_trig)"
   ]
  },
  {
   "cell_type": "code",
   "execution_count": null,
   "metadata": {
    "scrolled": true
   },
   "outputs": [],
   "source": [
    "test(find_sin,math.sin,testcase_trig)"
   ]
  },
  {
   "cell_type": "markdown",
   "metadata": {},
   "source": [
    "#### Setting a precision limit to reduce no.of iterations"
   ]
  },
  {
   "cell_type": "code",
   "execution_count": null,
   "metadata": {
    "scrolled": true
   },
   "outputs": [],
   "source": [
    "%%timeit\n",
    "def cal_sine_cosine2(x,i) :\n",
    "    fact = 1\n",
    "    sq = x*x\n",
    "    t1 = 1\n",
    "    if i == 0:\n",
    "        i = 2\n",
    "        val = 1\n",
    "        term = 1\n",
    "    if i == 1:\n",
    "        term = val = x\n",
    "        i = 3\n",
    "    while abs(t1) >= 1e-5:\n",
    "        term = term*sq\n",
    "        fact = fact*i*(i-1)*(-1)\n",
    "        t1 = (term/fact)\n",
    "        val = val + t1\n",
    "        i = i + 2\n",
    "        \n",
    "    return val\n",
    "\n",
    "cal_sine_cosine2(np.pi/6,1)"
   ]
  },
  {
   "cell_type": "markdown",
   "metadata": {},
   "source": [
    "#### There is significant reduction in the computation time from 12.5 µs ± 103 ns per loop to 3$\\mu s$"
   ]
  },
  {
   "cell_type": "code",
   "execution_count": null,
   "metadata": {
    "scrolled": true
   },
   "outputs": [],
   "source": [
    "def cal_sine_cosine2(x,i) :\n",
    "    fact = 1\n",
    "    sq = x*x\n",
    "    n = 0\n",
    "    if i == 0:\n",
    "        i = 2\n",
    "        val = 1\n",
    "        term = 1\n",
    "    if i == 1:\n",
    "        term = val = x\n",
    "        i = 3\n",
    "    t1 = 1\n",
    "    n = 0\n",
    "    while abs(t1) > 1e-5:\n",
    "        n = n + 1\n",
    "        term = term*sq\n",
    "        fact = fact*(i*(i-1))*(-1)\n",
    "        t1 = (term/fact)\n",
    "        val = val + t1\n",
    "        i = i + 2\n",
    "    return val, n\n",
    "\n",
    "def find_cos(x) :\n",
    "    return cal_sine_cosine2(x,0)\n",
    "\n",
    "def find_sin(x) :\n",
    "    return cal_sine_cosine2(x,1)"
   ]
  },
  {
   "cell_type": "code",
   "execution_count": null,
   "metadata": {
    "scrolled": true
   },
   "outputs": [],
   "source": [
    "test(find_cos,math.cos,testcase_trig)"
   ]
  },
  {
   "cell_type": "code",
   "execution_count": null,
   "metadata": {
    "scrolled": true
   },
   "outputs": [],
   "source": [
    "test(find_sin,math.sin,testcase_trig)"
   ]
  },
  {
   "cell_type": "markdown",
   "metadata": {},
   "source": []
  },
  {
   "cell_type": "markdown",
   "metadata": {},
   "source": [
    "\n",
    "<br> We will now replace $\\frac{a.a.a...}{1.2.3...}$ by \n",
    "<br><br>$\\frac{k}{i}$<br><br>$(\\frac{k}{i})*\\frac{k}{i+1}*\\frac{k}{i+2}$<br><br>$(\\frac{k}{i}*\\frac{k}{i+1}*\\frac{k}{i+2})*\\frac{k}{i+3}*\\frac{k}{i+4}$<br><br>$\\dots$<br>"
   ]
  },
  {
   "cell_type": "code",
   "execution_count": null,
   "metadata": {
    "scrolled": true
   },
   "outputs": [],
   "source": [
    "%%timeit\n",
    "def cal_sine_cosine3(x,i) :\n",
    "    fact = 1\n",
    "    sq = x*x\n",
    "    if i == 0:\n",
    "        i = 2\n",
    "        val = 1\n",
    "        term = 1\n",
    "    if i == 1:\n",
    "        term = val = x\n",
    "        i = 3\n",
    "    t1 = val\n",
    "    while abs(t1) > 1e-5:\n",
    "        t1 = t1*sq/(i*(i-1))*(-1)\n",
    "        val = val + t1\n",
    "        i = i + 2\n",
    "    return val\n",
    "\n",
    "cal_sine_cosine3(np.pi/6,1)"
   ]
  },
  {
   "cell_type": "code",
   "execution_count": null,
   "metadata": {
    "scrolled": true
   },
   "outputs": [],
   "source": [
    "def cal_sine_cosine3(x,i) :\n",
    "    fact = 1\n",
    "    sq = x*x\n",
    "    n = 0\n",
    "    if i == 0:\n",
    "        i = 2\n",
    "        val = 1\n",
    "        term = 1\n",
    "    if i == 1:\n",
    "        term = val = x\n",
    "        i = 3\n",
    "    t1 = val\n",
    "    con_val = []\n",
    "    while abs(t1) > 1e-5:\n",
    "        t1 = t1*sq/(i*(i-1))*(-1)\n",
    "        val = val + t1\n",
    "        i = i + 2\n",
    "        n = n + 1\n",
    "        con_val.append(val)\n",
    "    return val, n, con_val\n",
    "\n",
    "def find_cos(x) :\n",
    "    return cal_sine_cosine3(x,0)\n",
    "def find_sin(x) :\n",
    "    return cal_sine_cosine3(x,1)"
   ]
  },
  {
   "cell_type": "code",
   "execution_count": null,
   "metadata": {
    "scrolled": true
   },
   "outputs": [],
   "source": [
    "test(find_cos,math.cos,testcase_trig)"
   ]
  },
  {
   "cell_type": "code",
   "execution_count": null,
   "metadata": {
    "scrolled": true
   },
   "outputs": [],
   "source": [
    "test(find_sin,math.sin,testcase_trig)"
   ]
  },
  {
   "cell_type": "code",
   "execution_count": null,
   "metadata": {
    "scrolled": true
   },
   "outputs": [],
   "source": [
    "x = np.linspace(0, 2* np.pi  ,num = 100 , endpoint=False)\n",
    "cosx = []\n",
    "actualcosx = []\n",
    "cosx_itr = []\n",
    "sinx = []\n",
    "actualsinx = []\n",
    "sinx_itr = []\n",
    "for i in x :\n",
    "    tup = cal_sine_cosine3(i,0)\n",
    "    cosx.append(tup[0])\n",
    "    cosx_itr.append(tup[1])\n",
    "    actualcosx.append(math.cos(i))\n",
    "    tup = cal_sine_cosine3(i,1)\n",
    "    sinx.append(tup[0])\n",
    "    sinx_itr.append(tup[1])\n",
    "    actualsinx.append(math.sin(i))  "
   ]
  },
  {
   "cell_type": "markdown",
   "metadata": {},
   "source": [
    "We calculated cos(x), sin(x), math.cos(x), math.sin(x), the number of iterations required to calculate each of these values by function cal_sine_cosine(x,i). Lets take a look at visual representation of these values"
   ]
  },
  {
   "cell_type": "code",
   "execution_count": null,
   "metadata": {
    "scrolled": true
   },
   "outputs": [],
   "source": [
    "fig, ax = plt.subplots(2,2,figsize=(15,10)) \n",
    "ax[0][0].plot(cosx, color ='red')\n",
    "ax[0][0].plot(actualcosx)\n",
    "ax[0][0].set_title(\"cos(x)\")\n",
    "ax[0][0].legend(['cal_sine_cosine(x,0)', 'math.cos(x)'])\n",
    "ax[0][1].plot(sinx, color = 'red')\n",
    "ax[0][1].plot(actualsinx)\n",
    "ax[0][1].set_title(\"sin(x)\")\n",
    "ax[0][1].legend(['cal_sine_cosine(x,1)', 'math.sin(x)'])\n",
    "ax[1][0].plot(cosx_itr)\n",
    "ax[1][1].plot(sinx_itr);"
   ]
  },
  {
   "cell_type": "markdown",
   "metadata": {},
   "source": [
    "We can see that as the angles approaches 2pi the number of iterations increase. \n",
    "<br>Let us consider one of the lasts terms in our list of angles. At each iteration we will store the value of sum that is the value of cos(x) / sin(x) and plot it, then check these values for errors. "
   ]
  },
  {
   "cell_type": "code",
   "execution_count": null,
   "metadata": {
    "scrolled": true
   },
   "outputs": [],
   "source": [
    "fig, ax = plt.subplots(1,1,figsize=(10,10))\n",
    "tup = cal_sine_cosine3(x[97],0)\n",
    "ax.plot(tup[2])\n",
    "ans = math.cos(x[97])\n",
    "error = []\n",
    "for i in tup[2] : \n",
    "    error.append(ans - i)\n",
    "ax.plot(error, color = 'red')\n",
    "ax.legend(['cal_sine_cosine('+str(round(x[97],3))+',0)', 'error'])\n",
    "ax.set_xlabel(\"No.of Iterations\")\n",
    "ax.set_ylabel(\"Value\");"
   ]
  },
  {
   "cell_type": "markdown",
   "metadata": {},
   "source": [
    "***"
   ]
  },
  {
   "cell_type": "markdown",
   "metadata": {},
   "source": [
    "Till now we have seen 4 functions that calculate sine and cosine values. Using %%timeit we also found out the computation time required by these functions. \n",
    "<br>Now lets take a look at the number of iterations."
   ]
  },
  {
   "cell_type": "code",
   "execution_count": null,
   "metadata": {
    "scrolled": true
   },
   "outputs": [],
   "source": [
    "itr = []\n",
    "itr1 = []\n",
    "itr2 = []\n",
    "itr3 = []\n",
    "for i in x :\n",
    "    itr.append(cal_sine_cosine(i,0)[1])\n",
    "    itr1.append(cal_sine_cosine1(i,0)[1])\n",
    "    itr2.append(cal_sine_cosine2(i,0)[1])\n",
    "    itr3.append(cal_sine_cosine3(i,0)[1])\n",
    "\n",
    "fig, ax = plt.subplots(1,2, figsize = (15,7))\n",
    "ax[0].plot(itr,color = 'red')\n",
    "ax[0].plot(itr1, color = 'blue')\n",
    "ax[0].plot(itr2,color = 'yellow')\n",
    "ax[0].plot(itr3, color  = 'green')\n",
    "ax[0].legend(['cal_sine_cosine(x)','cal_sine_cosine1(x)','cal_sine_cosine2(x)','cal_sine_cosine3(x)'])\n",
    "ax[0].set_ylabel(\"Iterations\")\n",
    "\n",
    "itr4 = []\n",
    "itr4.append(cal_sine_cosine(0,0)[1])\n",
    "itr4.append(cal_sine_cosine1(0,0)[1])\n",
    "itr4.append(cal_sine_cosine2(0,0)[1])\n",
    "itr4.append(cal_sine_cosine3(0,0)[1])\n",
    "xaxis = [\"cal_sine_cosine(0,0)\",\"cal_sine_cosine1(0,0)\",\"cal_sine_cosine2(0,0)\",\"cal_sine_cosine3(0,0)\"]\n",
    "ax[1].plot(xaxis,itr4)\n",
    "ax[1].set_title(\"No.of Iterations when x  = 0\")\n",
    "ax[1].set_xlabel(\"cal_sine_cosine(x) functions [Naive --> Optimized]\")\n",
    "ax[1].set_ylabel(\"Iterations\");"
   ]
  },
  {
   "cell_type": "markdown",
   "metadata": {},
   "source": [
    "The number of iterations have decreased with increased optimization. \n",
    "<br>The last two functions have the same no.of iterations that is why you can't see yellow - they overlap\n",
    "<br>In the second graph at the right, we can see the number of iterations taken by each function to find cos(0)\n",
    "<br>What if we set a precision limit to our very first naive implementation of calculating sine and cosine, how will the graph for number of iterations look?"
   ]
  },
  {
   "cell_type": "code",
   "execution_count": null,
   "metadata": {
    "scrolled": true
   },
   "outputs": [],
   "source": [
    "def cal_sine_cosine4(x,i) :\n",
    "    t1 = 1\n",
    "    val = 0\n",
    "    sign = -1\n",
    "    n = 0\n",
    "    while abs(t1) > 1e-5:\n",
    "        n = n + 1\n",
    "        sign  = -sign\n",
    "        t1 = ((x**(i))/math.factorial(i))*sign\n",
    "        val = val + t1\n",
    "        i = i + 2\n",
    "    return val, n"
   ]
  },
  {
   "cell_type": "code",
   "execution_count": null,
   "metadata": {
    "scrolled": true
   },
   "outputs": [],
   "source": [
    "itr4 = []\n",
    "itr41 = []\n",
    "itr = []\n",
    "itr1 = []\n",
    "angle = np.linspace(0, 2* np.pi  ,num = 101 , endpoint=True)\n",
    "for i in angle :\n",
    "    itr4.append(cal_sine_cosine4(i,0)[1])\n",
    "    itr41.append(cal_sine_cosine4(i,1)[1])\n",
    "    itr.append(cal_sine_cosine(i,0)[1])\n",
    "    itr1.append(cal_sine_cosine(i,1)[1])\n",
    "\n",
    "fig, ax = plt.subplots(1,2, figsize = (15,7))\n",
    "ax[0].plot(itr4)\n",
    "ax[0].plot(itr, color = 'orange')\n",
    "ax[0].set_ylabel(\"Iterations for finding cos\")\n",
    "ax[0].legend(['cal_sine_cosine4(x,0)','cal_sine_cosine(x,0)'])\n",
    "ax[1].plot(itr41)\n",
    "ax[1].plot(itr1, color = 'orange')\n",
    "ax[1].set_ylabel(\"Iterations for finding sine\")\n",
    "ax[1].legend(['cal_sine_cosine4(x,1)','cal_sine_cosine(x,1)']);"
   ]
  },
  {
   "cell_type": "markdown",
   "metadata": {},
   "source": [
    "The number of iterations are quite lower than the first naive implementation. The computation time required can significantly be reduced by just keeping a proper terminating condition, further optimization can be done to get an even smaller computation time."
   ]
  },
  {
   "cell_type": "markdown",
   "metadata": {},
   "source": [
    "***"
   ]
  },
  {
   "cell_type": "markdown",
   "metadata": {},
   "source": [
    "### Summary "
   ]
  },
  {
   "cell_type": "markdown",
   "metadata": {},
   "source": [
    "I started off with the <b>geometric progression</b>, in which I did two cases of optimization :\n",
    "    - Limiting the no.of iterations.\n",
    "        - I understood that I could the same accuracy for a lot lower no.of iterations, which would give me a speed up of $300\\times$. I also saw the relation between speedup, accuracy, and precision.\n",
    "    - Replacing the power function.\n",
    "        - There was a significant reduction in the computation time, as I was not calculating the term at every iteration, instead using the previously calculated term.\n",
    "\n",
    "In <b>exponential function</b> :\n",
    "    - Used the previous 2 optimization techniques.\n",
    "    - Optimized the factorial.\n",
    "    - Found another case of optimization.\n",
    "    - Put all of them together\n",
    "    \n",
    "In <b>trigonometric function</b> :\n",
    "    - Used the 4 cases of optimization \n",
    "    - Put them togther\n",
    "    - explored the no.of iterations, error in the values"
   ]
  },
  {
   "cell_type": "markdown",
   "metadata": {},
   "source": [
    "__________________\n"
   ]
  },
  {
   "cell_type": "code",
   "execution_count": null,
   "metadata": {
    "scrolled": true
   },
   "outputs": [],
   "source": [
    "# angle = np.linspace(0, 2* np.pi  ,num = 100 , endpoint=False)\n",
    "# def testing2(func,i) :\n",
    "#     if i == 0 :\n",
    "#         cosx = []\n",
    "#         actualcos = []\n",
    "#         error = []\n",
    "        \n",
    "#         #finding cos and math.cos for every angle in the list\n",
    "#         for i in angle :\n",
    "#             cosofx = func(i,0)[0]\n",
    "#             actualcosofx = math.cos(i)\n",
    "#             cosx.append(cosofx)\n",
    "#             actualcos.append(actualcosofx)\n",
    "#             error.append(round((actualcosofx - cosofx),7))\n",
    "            \n",
    "#         #plotting graph for userdefines and math.cos\n",
    "#         fig, ax = plt.subplots(2,2,figsize=(10,10))\n",
    "#         ax[0][0].plot(cosx, color = 'red')\n",
    "#         ax[0][0].set_title(\"cal_sine_cosine(x,0)\")\n",
    "#         ax[0][1].plot(actualcos)\n",
    "#         ax[0][1].set_title(\"math.cos(x)\")\n",
    "#         ax[1][0].plot(cosx, color = 'red')\n",
    "#         ax[1][0].plot(actualcos)\n",
    "#         ax[1][0].legend(['cal_sine_cosine(x,0)', 'math.cos(x)'])\n",
    "#         ax[1][0].set_title(\"Superimposition of cal_sine_cosine(x,0) and math.cos(x)\")\n",
    "#         ax[1][1].plot(error)\n",
    "#         ax[1][1].set_title(\"error\")\n",
    "        \n",
    "#     if i == 1 :\n",
    "#         sinx = []\n",
    "#         actualsin = []\n",
    "#         error = []\n",
    "        \n",
    "#         #finding sin and math.sin for all values in list - angle\n",
    "#         for i in angle :\n",
    "#             sinofx = func(i,1)[0]\n",
    "#             actualsinofx = math.sin(i)\n",
    "#             sinx.append(sinofx)\n",
    "#             actualsin.append(actualsinofx)\n",
    "#             error.append(round((actualsinofx - sinofx),7))\n",
    "            \n",
    "#         #plotting graph for user defined function and math.sin\n",
    "#         fig, ax = plt.subplots(2,2,figsize=(10,10))\n",
    "#         ax[0][0].plot(sinx, color = 'red')\n",
    "#         ax[0][0].set_title(\"cal_sine_cosine(x,1)\")\n",
    "#         ax[0][1].plot(actualsin)\n",
    "#         ax[0][1].set_title(\"math.sin(x)\")\n",
    "#         ax[1][0].plot(sinx, color = 'red')\n",
    "#         ax[1][0].plot(actualsin)\n",
    "#         ax[1][0].legend(['cal_sine_cosine(x,1)', 'math.sin(x)'])\n",
    "#         ax[1][0].set_title(\"Superimposition of cal_sine_cosine(x,1) and math.sin(x)\")\n",
    "#         ax[1][1].plot(error)\n",
    "#         ax[1][1].set_title(\"error\")"
   ]
  },
  {
   "cell_type": "code",
   "execution_count": null,
   "metadata": {
    "scrolled": true
   },
   "outputs": [],
   "source": []
  }
 ],
 "metadata": {
  "kernelspec": {
   "display_name": "Python 3",
   "language": "python",
   "name": "python3"
  },
  "language_info": {
   "codemirror_mode": {
    "name": "ipython",
    "version": 3
   },
   "file_extension": ".py",
   "mimetype": "text/x-python",
   "name": "python",
   "nbconvert_exporter": "python",
   "pygments_lexer": "ipython3",
   "version": "3.7.0"
  }
 },
 "nbformat": 4,
 "nbformat_minor": 2
}
