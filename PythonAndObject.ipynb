{
 "cells": [
  {
   "cell_type": "code",
   "execution_count": null,
   "metadata": {},
   "outputs": [],
   "source": []
  },
  {
   "cell_type": "markdown",
   "metadata": {},
   "source": [
    "### Everything in python is an object\n",
    "<br>Objects have three properties:\n",
    "    - id\n",
    "    - value\n",
    "    - type\n",
    "The id of an object is constant throughout the lifetime of the object\n",
    "\n"
   ]
  },
  {
   "cell_type": "code",
   "execution_count": 3,
   "metadata": {},
   "outputs": [
    {
     "name": "stdout",
     "output_type": "stream",
     "text": [
      "140715233570720\n"
     ]
    }
   ],
   "source": [
    "a = 6\n",
    "print(id(a))"
   ]
  },
  {
   "cell_type": "code",
   "execution_count": 4,
   "metadata": {},
   "outputs": [
    {
     "name": "stdout",
     "output_type": "stream",
     "text": [
      "140715233570720\n"
     ]
    }
   ],
   "source": [
    "print(id(6))"
   ]
  },
  {
   "cell_type": "code",
   "execution_count": 5,
   "metadata": {},
   "outputs": [
    {
     "name": "stdout",
     "output_type": "stream",
     "text": [
      "140715233570688\n"
     ]
    }
   ],
   "source": [
    "b = 5\n",
    "a = a+1\n",
    "print(id(b))"
   ]
  },
  {
   "cell_type": "code",
   "execution_count": 6,
   "metadata": {},
   "outputs": [
    {
     "name": "stdout",
     "output_type": "stream",
     "text": [
      "140715233570752\n"
     ]
    }
   ],
   "source": [
    "print(id(a))"
   ]
  },
  {
   "cell_type": "code",
   "execution_count": 7,
   "metadata": {},
   "outputs": [
    {
     "data": {
      "text/plain": [
       "int"
      ]
     },
     "execution_count": 7,
     "metadata": {},
     "output_type": "execute_result"
    }
   ],
   "source": [
    "type(a)"
   ]
  },
  {
   "cell_type": "code",
   "execution_count": 8,
   "metadata": {},
   "outputs": [
    {
     "name": "stdout",
     "output_type": "stream",
     "text": [
      "140715233570752\n"
     ]
    }
   ],
   "source": [
    "print(id(a))"
   ]
  },
  {
   "cell_type": "code",
   "execution_count": 9,
   "metadata": {},
   "outputs": [
    {
     "name": "stdout",
     "output_type": "stream",
     "text": [
      "1981982506776\n"
     ]
    }
   ],
   "source": [
    "a = 4.5\n",
    "print(id(a))"
   ]
  },
  {
   "cell_type": "code",
   "execution_count": 10,
   "metadata": {},
   "outputs": [
    {
     "name": "stdout",
     "output_type": "stream",
     "text": [
      "1981995791176\n"
     ]
    }
   ],
   "source": [
    "a = [1,2,3]\n",
    "print(id(a))"
   ]
  },
  {
   "cell_type": "code",
   "execution_count": 11,
   "metadata": {},
   "outputs": [
    {
     "data": {
      "text/plain": [
       "list"
      ]
     },
     "execution_count": 11,
     "metadata": {},
     "output_type": "execute_result"
    }
   ],
   "source": [
    "type(a)"
   ]
  },
  {
   "cell_type": "code",
   "execution_count": 12,
   "metadata": {},
   "outputs": [
    {
     "name": "stdout",
     "output_type": "stream",
     "text": [
      "1981982506488\n",
      "140715233570720\n"
     ]
    }
   ],
   "source": [
    "a=[4.5,6]\n",
    "print(id(a[0]))\n",
    "print(id(a[1]))"
   ]
  },
  {
   "cell_type": "code",
   "execution_count": 13,
   "metadata": {},
   "outputs": [
    {
     "name": "stdout",
     "output_type": "stream",
     "text": [
      "1981995835464\n",
      "140715233570720\n"
     ]
    }
   ],
   "source": [
    "b=[4.5,6]\n",
    "print(id(b[0]))\n",
    "print(id(b[1]))"
   ]
  },
  {
   "cell_type": "code",
   "execution_count": 14,
   "metadata": {},
   "outputs": [],
   "source": [
    "def id_name(x,y):\n",
    "    print(\"id of \",x,\" is \",id(x))"
   ]
  },
  {
   "cell_type": "code",
   "execution_count": 15,
   "metadata": {},
   "outputs": [
    {
     "name": "stdout",
     "output_type": "stream",
     "text": [
      "id of  a  is  1981925927432\n",
      "id of  a[0]  is  1981985339072\n",
      "id of  a[1]  is  1981985338792\n"
     ]
    }
   ],
   "source": [
    "id_name(\"a\",a)\n",
    "id_name(\"a[0]\",a[0])\n",
    "id_name(\"a[1]\",a[1])"
   ]
  },
  {
   "cell_type": "code",
   "execution_count": 16,
   "metadata": {},
   "outputs": [],
   "source": [
    "def printproperties(a,b,c):\n",
    "    for i in a:\n",
    "        print(i.__name__,\" of \",b,\" is \",i(c))"
   ]
  },
  {
   "cell_type": "code",
   "execution_count": 10,
   "metadata": {},
   "outputs": [
    {
     "name": "stdout",
     "output_type": "stream",
     "text": [
      "\n",
      "Properties of  c : \n",
      "id  of  c  is  1854469051080\n",
      "type  of  c  is  <class 'list'>\n",
      "len  of  c  is  1\n"
     ]
    }
   ],
   "source": [
    "c=[8]\n",
    "printproperties((id,type,len),\"c\",c)"
   ]
  },
  {
   "cell_type": "markdown",
   "metadata": {},
   "source": [
    "utils.py contains printProps() method which we can use to print properties of the object passed. We will go on adding such methods to utils.py"
   ]
  },
  {
   "cell_type": "code",
   "execution_count": 15,
   "metadata": {},
   "outputs": [],
   "source": [
    "import utils"
   ]
  },
  {
   "cell_type": "code",
   "execution_count": 18,
   "metadata": {},
   "outputs": [
    {
     "name": "stdout",
     "output_type": "stream",
     "text": [
      "\n",
      "Properties of  c : \n",
      "id  of  c  is  1854469051080\n",
      "type  of  c  is  <class 'list'>\n",
      "len  of  c  is  1\n",
      "getrefcount  of  c  is  4\n"
     ]
    }
   ],
   "source": [
    "import sys\n",
    "def printproperties(a,b,c):\n",
    "    print(\"\\nProperties of \",b,\": \")\n",
    "    for i in a:\n",
    "        try:\n",
    "            print(i.__name__,\" of \",b,\" is \",i(c))\n",
    "        except:\n",
    "            print(\"Exception occured\")\n",
    "printproperties((id,type,len,sys.getrefcount),\"c\",c)"
   ]
  },
  {
   "cell_type": "code",
   "execution_count": 17,
   "metadata": {},
   "outputs": [
    {
     "name": "stdout",
     "output_type": "stream",
     "text": [
      "       type(c) : <class 'list'>\n",
      "         id(c) : 1854469051080\n",
      "   callable(c) : False\n",
      "        len(c) : 1\n",
      "getrefcount(c) : 4\n"
     ]
    }
   ],
   "source": [
    "utils.printProps((type, id, callable, len, sys.getrefcount), 'c', c)"
   ]
  },
  {
   "cell_type": "code",
   "execution_count": 19,
   "metadata": {},
   "outputs": [
    {
     "name": "stdout",
     "output_type": "stream",
     "text": [
      "         id(a) : 1854455680984\n",
      "       type(a) : <class 'float'>\n",
      "        len(a) : cannot be called\n",
      "getrefcount(a) : 5\n"
     ]
    }
   ],
   "source": [
    "a = 1.1\n",
    "utils.printProps((id,type,len,sys.getrefcount),\"a\",a)"
   ]
  },
  {
   "cell_type": "code",
   "execution_count": 20,
   "metadata": {},
   "outputs": [
    {
     "data": {
      "text/plain": [
       "218"
      ]
     },
     "execution_count": 20,
     "metadata": {},
     "output_type": "execute_result"
    }
   ],
   "source": [
    "sys.getrefcount(5)"
   ]
  },
  {
   "cell_type": "code",
   "execution_count": 21,
   "metadata": {},
   "outputs": [
    {
     "name": "stdout",
     "output_type": "stream",
     "text": [
      "a is not 5\n"
     ]
    }
   ],
   "source": [
    "a = [5.5,1]\n",
    "b = a\n",
    "if a is 5.5 :\n",
    "    print(\"a is 5\")\n",
    "else:\n",
    "    print(\"a is not 5\")"
   ]
  },
  {
   "cell_type": "code",
   "execution_count": 22,
   "metadata": {},
   "outputs": [
    {
     "name": "stdout",
     "output_type": "stream",
     "text": [
      "[5.5, -2]\n"
     ]
    }
   ],
   "source": [
    "b[1] = -2\n",
    "print(a)"
   ]
  },
  {
   "cell_type": "code",
   "execution_count": 23,
   "metadata": {},
   "outputs": [],
   "source": [
    "# a is a name that is bound to 5\n",
    "def foo(a):\n",
    "    a = a.copy()\n",
    "    a[0] = 5\n"
   ]
  },
  {
   "cell_type": "code",
   "execution_count": 24,
   "metadata": {},
   "outputs": [
    {
     "name": "stdout",
     "output_type": "stream",
     "text": [
      "[99, 6, 7]\n"
     ]
    }
   ],
   "source": [
    "b = [99,6,7]\n",
    "foo(b)\n",
    "print(b)"
   ]
  },
  {
   "cell_type": "code",
   "execution_count": 25,
   "metadata": {},
   "outputs": [],
   "source": [
    "a = [1,2,3]\n",
    "b = a*2"
   ]
  },
  {
   "cell_type": "code",
   "execution_count": 26,
   "metadata": {},
   "outputs": [
    {
     "name": "stdout",
     "output_type": "stream",
     "text": [
      "[1, 2, 3, 1, 2, 3]\n"
     ]
    }
   ],
   "source": [
    "print(b)"
   ]
  }
 ],
 "metadata": {
  "kernelspec": {
   "display_name": "Python 3",
   "language": "python",
   "name": "python3"
  },
  "language_info": {
   "codemirror_mode": {
    "name": "ipython",
    "version": 3
   },
   "file_extension": ".py",
   "mimetype": "text/x-python",
   "name": "python",
   "nbconvert_exporter": "python",
   "pygments_lexer": "ipython3",
   "version": "3.7.0"
  }
 },
 "nbformat": 4,
 "nbformat_minor": 2
}
